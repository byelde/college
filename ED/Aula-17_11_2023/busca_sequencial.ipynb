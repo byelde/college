{
 "cells": [
  {
   "cell_type": "code",
   "execution_count": 87,
   "metadata": {},
   "outputs": [],
   "source": [
    "vetor = [14,21,5,45,12,3,86,98,46,53,24,2,1,15,90,47]\n",
    "vetor2 = [1,2,3,5,12,14,15,21,24,45,46,47,53,86,90,98]"
   ]
  },
  {
   "cell_type": "code",
   "execution_count": 88,
   "metadata": {},
   "outputs": [],
   "source": [
    "def busca_seq( vetor, buscado):\n",
    "\n",
    "    comparacoes = 0;\n",
    "    print(f\"Array de tamanho: {len(vetor)}\");\n",
    "    encontrado = False;\n",
    "\n",
    "    for i, valor in enumerate( vetor ):\n",
    "        comparacoes += 1;\n",
    "        if valor == buscado:\n",
    "            print(f\"Valor encontrado no índice: {i}\");\n",
    "            encontrado = True\n",
    "            break;\n",
    "\n",
    "    if encontrado == False:\n",
    "        print(f\"Valor não encontrado\");\n",
    "        \n",
    "\n",
    "    print(f\"Quantidade de comparações: {comparacoes}\");"
   ]
  },
  {
   "cell_type": "markdown",
   "metadata": {},
   "source": [
    "# Eficiência\n",
    "## Melhor caso: n^0\n",
    "## Pior caso: n\n",
    "## Caso médio: n/2"
   ]
  },
  {
   "cell_type": "code",
   "execution_count": 89,
   "metadata": {},
   "outputs": [
    {
     "name": "stdout",
     "output_type": "stream",
     "text": [
      "--------------------\n",
      "Array de tamanho: 16\n",
      "Valor encontrado no índice: 0\n",
      "Quantidade de comparações: 1\n",
      "--------------------\n",
      "Array de tamanho: 16\n",
      "Valor encontrado no índice: 8\n",
      "Quantidade de comparações: 9\n",
      "--------------------\n",
      "Array de tamanho: 16\n",
      "Valor encontrado no índice: 14\n",
      "Quantidade de comparações: 15\n",
      "--------------------\n",
      "Array de tamanho: 16\n",
      "Valor não encontrado\n",
      "Quantidade de comparações: 16\n",
      "--------------------\n",
      "Array de tamanho: 16\n",
      "Valor encontrado no índice: 5\n",
      "Quantidade de comparações: 6\n",
      "--------------------\n",
      "Array de tamanho: 16\n",
      "Valor encontrado no índice: 10\n",
      "Quantidade de comparações: 11\n",
      "--------------------\n",
      "Array de tamanho: 16\n",
      "Valor encontrado no índice: 14\n",
      "Quantidade de comparações: 15\n",
      "--------------------\n",
      "Array de tamanho: 16\n",
      "Valor não encontrado\n",
      "Quantidade de comparações: 16\n"
     ]
    }
   ],
   "source": [
    "print(\"-\"*20);\n",
    "busca_seq( vetor, 14 );\n",
    "\n",
    "print(\"-\"*20);\n",
    "busca_seq( vetor, 46 );\n",
    "\n",
    "print(\"-\"*20);\n",
    "busca_seq( vetor, 90 );\n",
    "\n",
    "print(\"-\"*20);\n",
    "busca_seq( vetor, 50 );\n",
    "\n",
    "print(\"-\"*20);\n",
    "busca_seq( vetor2, 14 );\n",
    "\n",
    "print(\"-\"*20);\n",
    "busca_seq( vetor2, 46 );\n",
    "\n",
    "print(\"-\"*20);\n",
    "busca_seq( vetor2, 90 );\n",
    "\n",
    "print(\"-\"*20);\n",
    "busca_seq( vetor, 50 );\n"
   ]
  }
 ],
 "metadata": {
  "kernelspec": {
   "display_name": "Python 3",
   "language": "python",
   "name": "python3"
  },
  "language_info": {
   "codemirror_mode": {
    "name": "ipython",
    "version": 3
   },
   "file_extension": ".py",
   "mimetype": "text/x-python",
   "name": "python",
   "nbconvert_exporter": "python",
   "pygments_lexer": "ipython3",
   "version": "3.11.6"
  }
 },
 "nbformat": 4,
 "nbformat_minor": 2
}
