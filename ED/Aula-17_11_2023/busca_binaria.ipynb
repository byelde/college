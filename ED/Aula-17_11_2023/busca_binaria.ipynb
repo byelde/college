{
 "cells": [
  {
   "cell_type": "code",
   "execution_count": 137,
   "metadata": {},
   "outputs": [],
   "source": [
    "vetor1 = [14,21,5,45,12,3,86,98,46,53,24,2,1,15,90,47]\n",
    "vetor2 = [1,2,3,5,12,14,15,21,24,45,46,47,53,86,90,98]"
   ]
  },
  {
   "cell_type": "code",
   "execution_count": 138,
   "metadata": {},
   "outputs": [],
   "source": [
    "import math\n",
    "\n",
    "def busca_bin( vetor, buscado ):\n",
    "\n",
    "    vetor.sort();\n",
    "\n",
    "    comparacoes = 0;\n",
    "    indexBuscado = 0;\n",
    "    meioIndex = 0;\n",
    "    encontrado = False;\n",
    "    tam = 0;\n",
    "\n",
    "    print(f\"Array de tamanho: {len(vetor)}\");\n",
    "\n",
    "    while (True):\n",
    "\n",
    "        tam = len(vetor);\n",
    "\n",
    "        meioIndex = math.ceil((tam/2))-1;\n",
    "        if meioIndex == -1:\n",
    "            break\n",
    "\n",
    "        if ( vetor[meioIndex] == buscado ):\n",
    "            indexBuscado += len(vetor[:meioIndex+1])-1;\n",
    "            comparacoes += 1;\n",
    "            encontrado = True;\n",
    "            break;\n",
    "        \n",
    "        elif ( vetor[meioIndex] > buscado ):\n",
    "            comparacoes += 2;\n",
    "            vetor = vetor[:meioIndex];\n",
    "        \n",
    "        else:\n",
    "            indexBuscado += len(vetor[:meioIndex+1])\n",
    "            comparacoes += 3;\n",
    "            vetor = vetor[meioIndex+1:];\n",
    "\n",
    "\n",
    "    if encontrado == False:\n",
    "        print(f\"Valor não encontrado\");\n",
    "    else:\n",
    "        print(f\"Valor encontrado no índice {indexBuscado}\");\n",
    "\n",
    "    print(f\"Quantidade de comparações: {comparacoes}\");"
   ]
  },
  {
   "cell_type": "code",
   "execution_count": 139,
   "metadata": {},
   "outputs": [
    {
     "name": "stdout",
     "output_type": "stream",
     "text": [
      "Array de tamanho: 16\n",
      "Valor não encontrado\n",
      "Quantidade de comparações: 10\n"
     ]
    }
   ],
   "source": [
    "busca_bin( vetor1, 50 )"
   ]
  }
 ],
 "metadata": {
  "kernelspec": {
   "display_name": "Python 3",
   "language": "python",
   "name": "python3"
  },
  "language_info": {
   "codemirror_mode": {
    "name": "ipython",
    "version": 3
   },
   "file_extension": ".py",
   "mimetype": "text/x-python",
   "name": "python",
   "nbconvert_exporter": "python",
   "pygments_lexer": "ipython3",
   "version": "3.11.6"
  }
 },
 "nbformat": 4,
 "nbformat_minor": 2
}
