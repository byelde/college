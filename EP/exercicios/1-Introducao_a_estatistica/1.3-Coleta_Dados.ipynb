{
 "cells": [
  {
   "metadata": {
    "ExecuteTime": {
     "end_time": "2025-01-27T15:13:02.421582Z",
     "start_time": "2025-01-27T15:13:02.415407Z"
    }
   },
   "cell_type": "code",
   "source": "import numpy as np",
   "id": "d05ac123e146ca80",
   "outputs": [],
   "execution_count": 137
  },
  {
   "metadata": {},
   "cell_type": "markdown",
   "source": [
    "## Exercicio 1\n",
    "1. A SEC3 (Securities and Exchange Comission) está\n",
    "investigando uma empresa de serviços financeiros\n",
    "que tem 86 corretores. A SEC decide revisar os re-\n",
    "gistros de uma amostra aleatória de 10 corretores.\n",
    "Descreva como essa investigação poderia ser feita.\n",
    "Então, use a tecnologia para gerar uma lista de 10\n",
    "números aleatórios de 1 a 86 e ordene a lista."
   ],
   "id": "bc021c6bd2ee9d94"
  },
  {
   "cell_type": "code",
   "id": "initial_id",
   "metadata": {
    "collapsed": true,
    "ExecuteTime": {
     "end_time": "2025-01-27T15:13:02.472738Z",
     "start_time": "2025-01-27T15:13:02.459895Z"
    }
   },
   "source": [
    "agents: [int] = np.random.randint(0, 87, 10)\n",
    "agents.sort()\n",
    "agents"
   ],
   "outputs": [
    {
     "data": {
      "text/plain": [
       "array([ 5, 15, 19, 24, 46, 53, 54, 59, 64, 71])"
      ]
     },
     "execution_count": 138,
     "metadata": {},
     "output_type": "execute_result"
    }
   ],
   "execution_count": 138
  },
  {
   "metadata": {},
   "cell_type": "markdown",
   "source": [
    "# Exercicio 2\n",
    "Um departamento de controle de qualidade está\n",
    "testando 25 smartphones de um carregamento de\n",
    "300. Descreva como esse teste poderia ser feito.\n",
    "Então, use a tecnologia para gerar uma lista de 25\n",
    "números aleatórios de 1 a 300 e ordene a lista."
   ],
   "id": "e2d7450811993043"
  },
  {
   "metadata": {
    "ExecuteTime": {
     "end_time": "2025-01-27T15:13:02.523676Z",
     "start_time": "2025-01-27T15:13:02.511520Z"
    }
   },
   "cell_type": "code",
   "source": [
    "smartphones: [int] = np.random.randint(1, 301, 25)\n",
    "smartphones.sort()\n",
    "smartphones"
   ],
   "id": "dd57327a556b4585",
   "outputs": [
    {
     "data": {
      "text/plain": [
       "array([  2,   2,   4,   6,  25,  53,  58,  61,  81,  92,  98, 133, 147,\n",
       "       149, 151, 159, 162, 163, 167, 178, 181, 187, 189, 253, 282])"
      ]
     },
     "execution_count": 139,
     "metadata": {},
     "output_type": "execute_result"
    }
   ],
   "execution_count": 139
  },
  {
   "metadata": {},
   "cell_type": "markdown",
   "source": [
    "# Exercicio 3\n",
    "Considere a população de dez dígitos: 0, 1, 2, 3, 4,\n",
    "5, 6, 7, 8 e 9. Selecione três amostras aleatórias de\n",
    "cinco dígitos dessa lista. Encontre a média de cada\n",
    "amostra. Compare seus resultados com a média da\n",
    "população. Comente seus resultados. (Dica: para\n",
    "encontrar a média, some os dados e divida o resul-\n",
    "tado pelo número de elementos.)"
   ],
   "id": "387cd660dce2a41d"
  },
  {
   "metadata": {
    "ExecuteTime": {
     "end_time": "2025-01-27T15:13:02.620615Z",
     "start_time": "2025-01-27T15:13:02.606223Z"
    }
   },
   "cell_type": "code",
   "source": [
    "numbers: [int] = np.arange(10)\n",
    "chosen: [[int]] = [np.random.choice(numbers, 3, replace=False) for x in range(3)]\n",
    "[print(f\"{x}: {x.mean()}\") for x in chosen]"
   ],
   "id": "6ab49c6026ce74de",
   "outputs": [
    {
     "name": "stdout",
     "output_type": "stream",
     "text": [
      "[9 8 2]: 6.333333333333333\n",
      "[9 6 1]: 5.333333333333333\n",
      "[1 5 2]: 2.6666666666666665\n"
     ]
    },
    {
     "data": {
      "text/plain": [
       "[None, None, None]"
      ]
     },
     "execution_count": 140,
     "metadata": {},
     "output_type": "execute_result"
    }
   ],
   "execution_count": 140
  },
  {
   "metadata": {},
   "cell_type": "markdown",
   "source": [
    "# Exercicio 4\n",
    "Considere a população de 41 números inteiros de\n",
    "0 a 40. Qual é a média desses números? Selecio-\n",
    "ne três amostras aleatórias de sete números dessa\n",
    "lista. Encontre a média de cada amostra. Com-\n",
    "pare seus resultados com a média da população.\n",
    "Comente seus resultados."
   ],
   "id": "2b14b18525a2d61c"
  },
  {
   "metadata": {
    "ExecuteTime": {
     "end_time": "2025-01-27T15:13:02.699718Z",
     "start_time": "2025-01-27T15:13:02.684447Z"
    }
   },
   "cell_type": "code",
   "source": [
    "numbers: [int] = np.arange(41)\n",
    "chosen: [[int]] = [np.random.choice(numbers, 7, replace=False) for x in range(3)]\n",
    "print(f\"{numbers.mean()}\")\n",
    "[print(f\"{x}: {x.mean()}\") for x in chosen]"
   ],
   "id": "1cad6cbd049dc378",
   "outputs": [
    {
     "name": "stdout",
     "output_type": "stream",
     "text": [
      "20.0\n",
      "[ 6 33  2  5 23 13 39]: 17.285714285714285\n",
      "[22 39 15 13  4 40 25]: 22.571428571428573\n",
      "[36 19 34 22 25  2 13]: 21.571428571428573\n"
     ]
    },
    {
     "data": {
      "text/plain": [
       "[None, None, None]"
      ]
     },
     "execution_count": 141,
     "metadata": {},
     "output_type": "execute_result"
    }
   ],
   "execution_count": 141
  },
  {
   "metadata": {},
   "cell_type": "markdown",
   "source": [
    "# Exercicio 5\n",
    "Use números aleatórios para simular a jogada\n",
    "de um dado de seis faces 60 vezes. Quantas vezes\n",
    "você obteve cada número de 1 a 6? Os resultados\n",
    "são os que você esperava?"
   ],
   "id": "2ceb23edb45afdf3"
  },
  {
   "metadata": {
    "ExecuteTime": {
     "end_time": "2025-01-27T15:13:02.934676Z",
     "start_time": "2025-01-27T15:13:02.922639Z"
    }
   },
   "cell_type": "code",
   "source": [
    "dice: dict[int,int] = {x:0 for x in range(1,7)}\n",
    "\n",
    "for i in range(60):\n",
    "  dice[np.random.randint(1, 7)] += 1\n",
    "\n",
    "dice"
   ],
   "id": "cb450a8fe783b27d",
   "outputs": [
    {
     "data": {
      "text/plain": [
       "{1: 9, 2: 12, 3: 10, 4: 5, 5: 12, 6: 12}"
      ]
     },
     "execution_count": 142,
     "metadata": {},
     "output_type": "execute_result"
    }
   ],
   "execution_count": 142
  },
  {
   "metadata": {},
   "cell_type": "markdown",
   "source": [
    "# Exercicio 7\n",
    "Use números aleatórios para simular o lançamen-\n",
    "to de uma moeda 100 vezes, em que 0 representa\n",
    "cara e 1 coroa. Quantas vezes você obteve cada\n",
    "número? Os resultados são os que você esperava?"
   ],
   "id": "2025932be9acbae5"
  },
  {
   "metadata": {
    "ExecuteTime": {
     "end_time": "2025-01-27T15:13:03.162130Z",
     "start_time": "2025-01-27T15:13:03.145512Z"
    }
   },
   "cell_type": "code",
   "source": [
    "heads_tails: dict[int,int] = {0:0, 1:0}\n",
    "\n",
    "for i in range(100):\n",
    "  heads_tails[np.random.randint(0,2)] += 1\n",
    "\n",
    "heads_tails"
   ],
   "id": "82633499c50f73f6",
   "outputs": [
    {
     "data": {
      "text/plain": [
       "{0: 44, 1: 56}"
      ]
     },
     "execution_count": 143,
     "metadata": {},
     "output_type": "execute_result"
    }
   ],
   "execution_count": 143
  }
 ],
 "metadata": {
  "kernelspec": {
   "display_name": "Python 3",
   "language": "python",
   "name": "python3"
  },
  "language_info": {
   "codemirror_mode": {
    "name": "ipython",
    "version": 2
   },
   "file_extension": ".py",
   "mimetype": "text/x-python",
   "name": "python",
   "nbconvert_exporter": "python",
   "pygments_lexer": "ipython2",
   "version": "2.7.6"
  }
 },
 "nbformat": 4,
 "nbformat_minor": 5
}
