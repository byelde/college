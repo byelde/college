{
 "cells": [
  {
   "cell_type": "code",
   "id": "initial_id",
   "metadata": {
    "collapsed": true,
    "ExecuteTime": {
     "end_time": "2025-03-27T18:32:19.589907Z",
     "start_time": "2025-03-27T18:32:17.784355Z"
    }
   },
   "source": [
    "import numpy as np\n",
    "import pandas as pd\n",
    "import matplotlib.pyplot as plt"
   ],
   "outputs": [],
   "execution_count": 2
  },
  {
   "metadata": {},
   "cell_type": "markdown",
   "source": [
    "## QUESTÕES CAP 5.1 - EXERCÍCIOS (PAG. 228)\n",
    "37. Afirmação do fabricante Você trabalha em uma publicação de defesa do consumidor e está testando a afirmação do anúncio de um fabricante de pneus. O fabricante declara que a vida útil dos pneus é normalmente distribuída, com uma média de 40.000 milhas e um desvio padrão de 4.000 milhas. Você testa 16 pneus e registra as vidas úteis mostradas a seguir: [48778, 41046, 29083, 36394, 32302, 42787, 41972, 37229, 25314, 31920, 38030, 38445, 30750, 38886, 36770, 46049]\n",
    "\n",
    "a) Construa um histograma de frequência para mostrar esses dados. Use cinco classes. As vidas úteis parecem ser normalmente distribuídas? Explique.\n",
    "\n",
    "b) Calcule a média e o desvio padrão de sua amostra."
   ],
   "id": "b95b88e8a5aafb02"
  },
  {
   "metadata": {
    "ExecuteTime": {
     "end_time": "2025-03-27T18:34:19.183983Z",
     "start_time": "2025-03-27T18:34:18.965253Z"
    }
   },
   "cell_type": "code",
   "source": [
    "dados: np.ndarray = np.array([48778, 41046, 29083, 36394, 32302, 42787, 41972, 37229, 25314, 31920, 38030, 38445, 30750, 38886, 36770, 46049])\n",
    "df = pd.DataFrame(data=dados, columns=['Vida_Util'])\n",
    "\n",
    "# LETRA A\n",
    "plt.figure(figsize = (5,3))\n",
    "plt.hist(df['Vida_Util'], bins=5)\n",
    "plt.show()\n",
    "\n",
    "# LETRA B\n",
    "print(f\"Média: {dados.mean()}\\nDesv. Padrão: {dados.std()}\")"
   ],
   "id": "a958c559f79b91ac",
   "outputs": [
    {
     "data": {
      "text/plain": [
       "<Figure size 500x300 with 1 Axes>"
      ],
      "image/png": "[encoded data removed]"
     },
     "metadata": {},
     "output_type": "display_data"
    },
    {
     "name": "stdout",
     "output_type": "stream",
     "text": [
      "Média: 37234.6875\n",
      "Desv. Padrão: 6060.449598820515\n"
     ]
    }
   ],
   "execution_count": 4
  },
  {
   "metadata": {},
   "cell_type": "markdown",
   "source": [
    "38. Você está realizando um estudo sobre consumo per capita de leite, por semana. Um estudo anterior descobriu que o consumo per capita de leite, por semana, era normalmente distribuído, com uma média de 48,7 onças líquidas e um desvio padrão de 8,6 onças líquidas. Você seleciona aleatoriamente 30 pessoas e registra o consumo semanal de leite mostrado a seguir.: [40, 45, 54, 41, 43, 31, 47, 30, 33, 37, 48, 57, 52, 45, 38, 65, 25, 39, 53, 51, 58, 52, 40, 46, 44, 48, 61, 47, 49, 57]\n",
    "\n",
    "a) Construa um histograma de frequência para mostrar esses dados. Use cinco classes. As vidas úteis parecem ser normalmente distribuídas? Explique.\n",
    "\n",
    "b) Calcule a média e o desvio padrão de sua amostra."
   ],
   "id": "95a6da30bc90e81"
  },
  {
   "metadata": {
    "ExecuteTime": {
     "end_time": "2025-03-25T11:57:15.234244Z",
     "start_time": "2025-03-25T11:57:15.077411Z"
    }
   },
   "cell_type": "code",
   "source": [
    "dados: np.ndarray = np.array([40, 45, 54, 41, 43, 31, 47, 30, 33, 37, 48, 57, 52, 45, 38, 65, 25, 39, 53, 51, 58, 52, 40, 46, 44, 48, 61, 47, 49, 57])\n",
    "\n",
    "df = pd.DataFrame(data=dados, columns=['Consumo_Leite'])\n",
    "plt.figure(figsize = (5,3))\n",
    "plt.title(\"Consumo de Leite em onças\")\n",
    "plt.hist(df, bins=7)\n",
    "plt.show()\n",
    "\n",
    "print(f\"Média: {dados.mean()}\\nDesv. Padrão: {dados.std()}\")"
   ],
   "id": "6c2a46c9abded9d",
   "outputs": [
    {
     "data": {
      "text/plain": [
       "<Figure size 500x300 with 1 Axes>"
      ],
      "image/png": "[encoded data removed]"
     },
     "metadata": {},
     "output_type": "display_data"
    },
    {
     "name": "stdout",
     "output_type": "stream",
     "text": [
      "Média: 45.86666666666667\n",
      "Desv. Padrão: 9.304956862996315\n"
     ]
    }
   ],
   "execution_count": 29
  }
 ],
 "metadata": {
  "kernelspec": {
   "display_name": "Python 3",
   "language": "python",
   "name": "python3"
  },
  "language_info": {
   "codemirror_mode": {
    "name": "ipython",
    "version": 2
   },
   "file_extension": ".py",
   "mimetype": "text/x-python",
   "name": "python",
   "nbconvert_exporter": "python",
   "pygments_lexer": "ipython2",
   "version": "2.7.6"
  }
 },
 "nbformat": 4,
 "nbformat_minor": 5
}
