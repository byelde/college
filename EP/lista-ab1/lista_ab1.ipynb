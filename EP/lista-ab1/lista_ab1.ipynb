{
 "cells": [
  {
   "metadata": {},
   "cell_type": "markdown",
   "source": "# Lista Avaliativa - AB1",
   "id": "50b7adcbd4fc8a47"
  },
  {
   "metadata": {},
   "cell_type": "markdown",
   "source": [
    "## Questão 1\n",
    "A Caixa Econômica Federal disponibiliza duas loterias a Quina e a Mega Sena. OS cartões destas loterias são exibidos a seguir. Para quina devem ser escolhidos 5 números dentre 80 possíveis. Para Mega sena devem ser escolhidos 6 números dentre 60 possíveis. Comparando as probabilidades de vencer com uma aposta simples em cada uma das loterias. Em qual das loterias é mais ``fácil'' vencer?\n",
    "\n",
    "### Quantidade de jogos possiveis: MEGA SENA\n",
    "C<sub>60,6</sub> => $\\frac{60!}{6!(60-6)!}$ => $\\frac{60 * 59 * 58 * 57 * 56 * 55 * 54!}{6 * 5 * 4 * 3 * 2 * 1 * 54!}$ => $\\frac{10 * 59 * 29 * 57 * 14 * 11}{3}$ = 50.063.860\n",
    "\n",
    "Conclusão, exitem mais de 50 milhões de jogos possíveis para vencer a Mega Sena\n",
    "\n",
    "### Quantidade de jogos possiveis: QUINA\n",
    "C<sub>80,5</sub> => $\\frac{80!}{5!(80-5)!}$ => $\\frac{80 * 79 * 78 * 77 * 76 * 75!}{5 * 4 * 3 * 2 * 1 * 75!}$ => $\\frac{16 * 39 * 19 * 79 * 77}{3}$ = 24.040.016\n",
    "\n",
    "Conclusão, exitem mais de 24 milhões de jogos possíveis para vencer a Mega Sena\n",
    "\n",
    "\n",
    "#### RESPOSTA: como existem muito menos jogos possíveis na Quina, então é mais fácil acertar um dos seus jogos do que um da Mega Sena\n"
   ],
   "id": "c4e76f05e45e0c79"
  },
  {
   "metadata": {},
   "cell_type": "markdown",
   "source": [
    "## Questão 2\n",
    "A Caixa Econômica Federal permite que sejam realizadas apostas contendo jogos com 6, 7, 8, 9, 10, 11, 12, 13, 14 ou 15 números, tendo cada uma destas apostas um valor de investimento diferente. Na questão anterior você calculou a probabilidade de vencer um sorteio da Mega sena com uma aposta simples (um único jogo com seis números). Qual a probabilidade de vencer um sorteio da Mega sena com um jogo de 7 números? e com um jogo de 8 números? Você pode representar a probabilidade com a fração obtida.\n",
    "\n",
    "### RESPOSTA:\n",
    "\n",
    "As opções 1, 2 e 3 estão incorretas:\n",
    "\n",
    "1. 7 chances para o jogo com 7 numeros e 8 chances para o jogo com 8 numeros: incorreto, nem sequer diz dentro de quantos resultados possíveis\n",
    "2. $\\frac{1}{50.063.860}$ para ambos: incorreto, pois aumentar a quantidade de números logicamente aumenta as chances\n",
    "3. 50% de chance de ganhar (e 50% de chance de perder): incorreto, há mais que dois jogos possíveis\n",
    "\n",
    "Restam assim, as opções 4 e 5. Suas afirmações sobre o jogo com 7 números é a mesma, bastando encontrar o valor para 8 números:\n",
    "\n",
    "Para 6 números temos: $\\frac{1}{50.063.860}$. Estendemos esse jogo \"campeão\" para 8 \"casas\" : <u>X</u> * <u>X</u> * <u>X</u> * <u>X</u> * <u>X</u> * <u>X</u> * <u>O</u> * <u>O</u> onde X são os números sorteados e O os números extras. Basta distribuir os O pelas oito posições e retirar as cópias iguais (já que a [posição não importa). Assim temos: $\\frac{8*7}{2!}$ = 28.\n",
    "\n",
    "#### CONCLUSÃO: o jogo com 8 números estendem a quantidade de jogos \"campeões\" de 1 para 28. Assim temos: 28 * $\\frac{1}{50.063.860}$ = $\\frac{28}{50.063.860}$. Logo, a resposta correta é a opção \"7/50.063.860 para o jogo com 7 numeros e 28/50.063.860 para o jogo com 8 numeros\"."
   ],
   "id": "481f4a5f4d1a16e5"
  },
  {
   "metadata": {},
   "cell_type": "markdown",
   "source": [
    "# Questão 3:\n",
    "Escolha uma das maos do poker (exceto Royal Straight Flush) e apresente os calculos que levam a probabilidade de obter essa mão.\n",
    "\n",
    "### RESPOSTA:\n",
    "Especificação do baralho: 52 duas cartas ao total: 13 cartas com valores diferentes (Às, 1, 2, 3, .., 9, 10, Valete, Dama, Rei) cada uma repetida para um dos 4 naipes. Assim, 13x4 cartas.\n",
    "Especificação das condições: ser o primeiro a receber as 5 primeiras cartas do baralho\n",
    "\n",
    "Probabilidade de tirar uma QUADRA (um jogo com 4 cartas de mesmo valor, porém naipes diferentes, e uma carta irrelevante) na primeira mão:\n",
    "\n",
    "Existem 13 quadras possíveis com a 5˚ carta podendo ser qualquer uma das 48 restantes, logo 13 * 48 mãos possíveis de quadras.\n",
    "\n",
    "Total de mãos no poker é: C<sub>52,5</sub> => $\\frac{52!}{(52-5)!x5!}$ = > $\\frac{52 * 51 * 50 * 49 * 48 * 47!}{5 * 4 * 3 * 2 * 1 * 47!}$ => 13 * 17 * 10 * 49 * 24 = 2.598.960.\n",
    "\n",
    "Logo, a probabilidade de tirar uma quadra na primeira mão sendo o primeiro a receber as 5 primeiras cartas é $\\frac{13 * 48}{2.598.960}$ = 0,00024 => 0,024%\n",
    "\n"
   ],
   "id": "ec9026d4e583f4d"
  }
 ],
 "metadata": {
  "kernelspec": {
   "display_name": "Python 3",
   "language": "python",
   "name": "python3"
  },
  "language_info": {
   "codemirror_mode": {
    "name": "ipython",
    "version": 2
   },
   "file_extension": ".py",
   "mimetype": "text/x-python",
   "name": "python",
   "nbconvert_exporter": "python",
   "pygments_lexer": "ipython2",
   "version": "2.7.6"
  }
 },
 "nbformat": 4,
 "nbformat_minor": 5
}
