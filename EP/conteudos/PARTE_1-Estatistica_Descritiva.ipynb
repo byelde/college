{
 "cells": [
  {
   "cell_type": "markdown",
   "metadata": {
    "id": "hEMAxXHlKp8Y"
   },
   "source": [
    "# **Introdução à Estatística**"
   ]
  },
  {
   "cell_type": "markdown",
   "metadata": {
    "id": "IWOu2geUJ1p7"
   },
   "source": [
    "\n",
    "\n",
    "* Quase todos os dias somos expostos à estatística\n",
    "* Todos já tiveram contato com informações do tipo:\n",
    "  * \"58\\% das intenções de votos são para o candidato X\";\n",
    "  * \"24,1\\% da população adulta brasileira apresenta problemas de hipertensão arterial\"\n",
    "  * \"Segundo o IBGE, a faixa etária dos jovens abrange 40,2\\%, a dos adultos 50,5\\%, e a dos idosos, 9,3\\% do total da população brasileira.\"\n",
    "* Estas afirmações são baseadas na coleta de dados\n",
    "* Dados consistem em informações que vêm de observações, contagens, medições ou respostas\n",
    "  * tipicamente vemos dados apresentados graficamente, pois a leitura é mais intuitiva do que números\n",
    "* Estatística é a ciência que coleta, organiza, analisa e interpreta dados\n",
    "para a tomada de decisões"
   ]
  },
  {
   "cell_type": "markdown",
   "metadata": {
    "id": "zV9yjRKQJ67L"
   },
   "source": [
    "### População e Amostra\n",
    "* Iremos trabalhar com dados durante toda a disciplina\n",
    "* Existem dois tipos de conjuntos de dados sobre os quais podemos fazer análise estatı́stica:\n",
    "* População – coleta de todos os resultados, respostas, medições ou\n",
    "contagens que são de interesse representa todo o universo de dados a ser estudado\n",
    "* Amostra – subgrupo de uma população\n",
    "  * geralmente utilizada quando mensurar o todo apresenta alto custo\n",
    "  * ex: pesquisa de intenções de voto\n",
    "* Dados amostrais podem ser usados para inferir conclusões sobre populações\n",
    "* Sobre a pesquisa de intenção de votos\n",
    "  * consultar 150 milhões de pessoas (universo) antes da eleição não é factível\n",
    "  * consultar 2.200 (amostra) pessoas antes da eleição é viável\n",
    "* Se os dados forem coletados usando métodos apropriados, podemos tirar conclusões importantes dessa pesquisa\n",
    "* Se os dados não forem coletados de forma apropriada, eles não terão valor\n",
    "* Exemplo\n",
    "  * A agência nacional do petróleo (ANP) conduz pesquisas semanas em aproximadamente 800 postos de gasolina para determinar o preço médio por litro de gasolina comum. Em novembro de 2015, o preço médio no Brasil era de R$ 3,54 por litro de gasolina.\n",
    "  * Neste exemplo, quem é a população e quem é a amostra?"
   ]
  },
  {
   "cell_type": "markdown",
   "metadata": {
    "id": "bW78zW84MaI0"
   },
   "source": [
    "## Estatística Descritiva e Inferencial\n",
    "* Estatı́stica descritiva:\n",
    "  * ramo da estatı́stica que envolve a organização, o resumo e a representação dos dados\n",
    "* Estatı́stica inferencial:\n",
    "  * ramo da estatı́stica que envolve o uso de uma amostra para chegar a conclusões sobre uma população\n",
    "  * uma ferramenta muito usada no estudo da estatı́stica inferencial é a\n",
    "probabilidade"
   ]
  },
  {
   "cell_type": "markdown",
   "metadata": {
    "id": "65gx6QYcNEeg"
   },
   "source": [
    "# Estatística Descritiva\n",
    "* A estatística descritiva fornece maneiras de organizar e descrever conjuntos de dados\n",
    "* Aplicada quando se consegue coletar dados de todo o universo de discurso, ou seja, toda a população de interesse\n",
    "  * ex: dados de todos os pacientes de um hospital, dados de todos os moradores de uma cidade, dados de todos os visitantes de um parque aquático, etc\n",
    "* O objetivo da estatı́stica descritiva é tornar dados mais fáceis de serem entendidos\n",
    "* Para isto calculamos médias, variações, tendências destes dados brutos"
   ]
  },
  {
   "cell_type": "markdown",
   "metadata": {
    "id": "eJNeN6wrNj3p"
   },
   "source": [
    "### Exemplo - Aluguel de bicicletas em Washington DC\n",
    "* Quantidade de bicicletas alugadas em 80 dias seguidos\n",
    "\n",
    "985, 801, 1349, 1562, 1600, 1606, 1510, 959, 822, 1321, 1263, 1162, 1406, 1421,1248, 1204, 1000, 683, 1650, 1927, 1543, 981, 986, 1416, 1985, 506, 431, 1167,1098, 1096, 1501, 1360, 1526, 1550, 1708, 1005, 1623, 1712, 1530, 1605, 1538, 1746, 1472, 1589, 1913, 1815, 2115, 2475, 2927, 1635, 1812, 1107, 1450, 1917, 1807, 1461, 1969, 2402, 1446, 1851, 2134, 1685, 1944, 2077, 605, 1872, 2133,1891, 623, 1977, 2132, 2417, 2046, 2056, 2192, 2744, 3239, 3117, 2471, 2077\n",
    "\n",
    "* A priori, olhando para estes dados, o que se pode concluir sobre o aluguel de bicicleta nestes dias?\n",
    "* Analisar dados brutos não é uma tarefa trivial e por vezes pode ser tediosa\n",
    "* A estatística descritiva reune um conjunto de ferramentas que podem auxiliar na análise destes dados de forma prática e intuitiva \n",
    "* Veremos\n",
    "  * distribuição de frequência\n",
    "  * medidas de tendência central\n",
    "  * medidas de dispersão\n",
    "  * medias de posição"
   ]
  },
  {
   "cell_type": "markdown",
   "metadata": {
    "id": "_wogrvCeOh7C"
   },
   "source": [
    "## Distribuição de Frequência\n",
    "* A ideia da distribuição de frequências é agrupar dados em intervalos\n",
    "chamados de classes, que formam uma distribuição de frequência\n",
    "* A organização de dados brutos em uma distribuição de frequências facilita a visualização e análise destes dados\n",
    "* Uma distribuição de frequência é uma tabela que mostra classes ou intervalos das entradas de dados com uma contagem do número de entradas em cada classe\n",
    "* A frequência de uma classe é o número de ocorrências de dados naquela classe\n",
    "* Exemplo:\n",
    "\n",
    "![dist.png](data:image/png;base64,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)\n",
    "\n",
    "* Nesta distribuição há seis classes\n",
    "* A frequência para cada uma das seis classes é 5,8,6,8,5,4\n",
    "* Cada classe tem um limite inferior de classe, que é o menor número que pode pertencer a classe\n",
    "* E também um limite superior, que é o maior número que pode pertencer a classe\n",
    "* A largura da classe é a distância entre os limites inferiores de suas\n",
    "consecutivas classes que neste caso é 5\n",
    "\n"
   ]
  },
  {
   "cell_type": "markdown",
   "metadata": {
    "id": "9ao-xpvhjnma"
   },
   "source": [
    "### Como montar uma distribuição de frequência\n",
    "* Passo 1: escolha o número de classes"
   ]
  },
  {
   "cell_type": "code",
   "execution_count": null,
   "metadata": {
    "id": "NdCYfyUSkPzI"
   },
   "outputs": [],
   "source": [
    "n_classes = 5"
   ]
  },
  {
   "cell_type": "code",
   "execution_count": null,
   "metadata": {
    "id": "nZplU83KgKAb"
   },
   "outputs": [],
   "source": [
    "# leitura dos dados\n",
    "alugueis = [985, 801, 1349, 1562, 1600, 1606, 1510, 959, 822, 1321, 1263, 1162, 1406, 1421,1248, 1204, 1000, 683, 1650, 1927, 1543, 981, 986, 1416, 1985, 506, 431, \n",
    "            1167,1098, 1096, 1501, 1360, 1526, 1550, 1708, 1005, 1623, 1712, 1530, 1605, 1538, 1746, 1472, 1589, 1913, 1815, 2115, 2475, 2927, 1635, 1812, 1107, \n",
    "            1450, 1917, 1807, 1461, 1969, 2402, 1446, 1851, 2134, 1685, 1944, 2077, 605, 1872, 2133,1891, 623, 1977, 2132, 2417, 2046, 2056, 2192, 2744, 3239, \n",
    "            3117, 2471, 2077]"
   ]
  },
  {
   "cell_type": "markdown",
   "metadata": {
    "id": "B1_tmmVRj4iS"
   },
   "source": [
    "* Passo 2: encontre a amplitude dos dados"
   ]
  },
  {
   "cell_type": "code",
   "execution_count": null,
   "metadata": {
    "colab": {
     "base_uri": "https://localhost:8080/",
     "height": 34
    },
    "id": "aLbgJkrFgob7",
    "outputId": "d3104305-c6e1-456e-dbb5-047942a2e74d"
   },
   "outputs": [
    {
     "data": {
      "text/plain": [
       "(431, 3239, 2808)"
      ]
     },
     "execution_count": 3,
     "metadata": {},
     "output_type": "execute_result"
    }
   ],
   "source": [
    "#calcular amplitude total\n",
    "maior = max(alugueis)\n",
    "menor = min(alugueis)\n",
    "amplitude = maior - menor\n",
    "menor, maior, amplitude"
   ]
  },
  {
   "cell_type": "markdown",
   "metadata": {
    "id": "3weGdVsOkEU3"
   },
   "source": [
    "* Passo 3: encontre a amplitude de classe"
   ]
  },
  {
   "cell_type": "code",
   "execution_count": 4,
   "metadata": {
    "colab": {
     "base_uri": "https://localhost:8080/",
     "height": 34
    },
    "id": "ga7qEgbSkI4e",
    "outputId": "86e7d27a-1a55-437c-8c9c-10f31501ae99"
   },
   "outputs": [
    {
     "data": {
      "text/plain": [
       "562"
      ]
     },
     "execution_count": 4,
     "metadata": {},
     "output_type": "execute_result"
    }
   ],
   "source": [
    "amplitude_classe = round(amplitude/n_classes)\n",
    "amplitude_classe"
   ]
  },
  {
   "cell_type": "markdown",
   "metadata": {
    "id": "hMNeHPbPkoUK"
   },
   "source": [
    "* Passo 4: encontre os limites de classes"
   ]
  },
  {
   "cell_type": "code",
   "execution_count": 5,
   "metadata": {
    "colab": {
     "base_uri": "https://localhost:8080/",
     "height": 34
    },
    "id": "mqpLszlIkr4Q",
    "outputId": "34e92402-6b7e-4699-fbe6-f6834526bbfb"
   },
   "outputs": [
    {
     "data": {
      "text/plain": [
       "[431, 993, 1555, 2117, 2679, 3241]"
      ]
     },
     "execution_count": 5,
     "metadata": {},
     "output_type": "execute_result"
    }
   ],
   "source": [
    "limites_inf = [menor]\n",
    "for i in range(n_classes):\n",
    "  limites_inf.append(limites_inf[i]+amplitude_classe)\n",
    "limites_inf"
   ]
  },
  {
   "cell_type": "markdown",
   "metadata": {
    "id": "7F8zt9wAlWCL"
   },
   "source": [
    "Limites encontrados\n",
    "<table>\n",
    "  <tr><th>Classes</th><th>Frequência</th></tr>\n",
    "  <tr><td>431-992</td><td></td></tr>\n",
    "  <tr><td>993-1554</td><td></td></tr>\n",
    "  <tr><td>1555-2176</td><td></td></tr>\n",
    "  <tr><td>2177-2678</td><td></td></tr>\n",
    "  <tr><td>2679-3240</td><td></td></tr>\n",
    "</table>"
   ]
  },
  {
   "cell_type": "markdown",
   "metadata": {
    "id": "Nef41rNlpeqS"
   },
   "source": [
    "* Passo 5: contar as ocorrências nas classes"
   ]
  },
  {
   "cell_type": "code",
   "execution_count": 6,
   "metadata": {
    "colab": {
     "base_uri": "https://localhost:8080/",
     "height": 34
    },
    "id": "q00TyIYypmsR",
    "outputId": "f480465e-a6cc-4c27-80f0-7d652622cda4"
   },
   "outputs": [
    {
     "data": {
      "text/plain": [
       "{'classe1': 11, 'classe2': 27, 'classe3': 30, 'classe4': 8, 'classe5': 4}"
      ]
     },
     "execution_count": 6,
     "metadata": {},
     "output_type": "execute_result"
    }
   ],
   "source": [
    "frequencias = {'classe1':0,'classe2':0,'classe3':0,'classe4':0,'classe5':0}\n",
    "for numero in alugueis:\n",
    "  if numero < limites_inf[1]:\n",
    "    frequencias['classe1'] +=1\n",
    "  elif numero < limites_inf[2]:\n",
    "    frequencias['classe2'] +=1\n",
    "  elif numero < limites_inf[3]:\n",
    "    frequencias['classe3'] +=1\n",
    "  elif numero < limites_inf[4]:\n",
    "    frequencias['classe4'] +=1\n",
    "  else:\n",
    "    frequencias['classe5'] +=1\n",
    "frequencias"
   ]
  },
  {
   "cell_type": "markdown",
   "metadata": {
    "id": "8SCtIwCDpjVQ"
   },
   "source": [
    "Distribuição de Frequência\n",
    "<table>\n",
    "  <tr><th>Classes</th><th>Frequência</th></tr>\n",
    "  <tr><td>431-992</td><td>11</td></tr>\n",
    "  <tr><td>993-1554</td><td>27</td></tr>\n",
    "  <tr><td>1555-2176</td><td>30</td></tr>\n",
    "  <tr><td>2177-2678</td><td>8</td></tr>\n",
    "  <tr><td>2679-3240</td><td>4</td></tr>\n",
    "</table>\n",
    "\n",
    "* Com a distribuição de frequências podemos fazer uma melhor análise dos dados\n",
    "* A maioria dos dias têm entre e 990 e 2175 aluguéis\n",
    "* É raro haver mais de 2177 aluguéis\n",
    "* Também não é muito comum haver menos de 990 aluguéis por dia\n"
   ]
  },
  {
   "cell_type": "markdown",
   "metadata": {
    "id": "N-tkSYd9rvrH"
   },
   "source": [
    "## Frequência relativa\n",
    "* É muito comum analisarmos a frequência relativa\n",
    "* Desconsideramos a escala dos dados\n",
    "* Basta calcular a frequência de cada classe dividida pela soma total das ocorrências"
   ]
  },
  {
   "cell_type": "code",
   "execution_count": 7,
   "metadata": {
    "colab": {
     "base_uri": "https://localhost:8080/",
     "height": 102
    },
    "id": "yZInlD8JrtPk",
    "outputId": "13465c13-2fb0-4c93-e00c-469a2e0857ca"
   },
   "outputs": [
    {
     "data": {
      "text/plain": [
       "{'classe1': 0.1375,\n",
       " 'classe2': 0.3375,\n",
       " 'classe3': 0.375,\n",
       " 'classe4': 0.1,\n",
       " 'classe5': 0.05}"
      ]
     },
     "execution_count": 7,
     "metadata": {},
     "output_type": "execute_result"
    }
   ],
   "source": [
    "n_ocorrencias = len(alugueis)\n",
    "for classe in frequencias:\n",
    "  frequencias[classe] = frequencias[classe]/n_ocorrencias\n",
    "frequencias\n"
   ]
  },
  {
   "cell_type": "markdown",
   "metadata": {
    "id": "aTemwTscsahB"
   },
   "source": [
    "Distribuição de Frequencia\n",
    "<table>\n",
    "  <tr><th>Classes</th><th>Frequência</th><th>%</th></tr>\n",
    "  <tr><td>431-992</td><td>11</td><td>13.75</td></tr>\n",
    "  <tr><td>993-1554</td><td>27</td><td>33.75</td></tr>\n",
    "  <tr><td>1555-2176</td><td>30</td><td>37.50</td></tr>\n",
    "  <tr><td>2177-2678</td><td>8</td><td>10.00</td></tr>\n",
    "  <tr><td>2679-3240</td><td>4</td><td>5.00</td></tr>\n",
    "</table>"
   ]
  },
  {
   "cell_type": "markdown",
   "metadata": {
    "id": "PQtWZ8CZs1GP"
   },
   "source": [
    "## Histograma de frequência\n",
    "* A utilização de gráficos facilita a análise dos daods\n",
    "* Um histograma de frequência é um diagrama de barras que representa a distribuição de frequência de um conjunto de dados\n",
    "* Propriedades do histograma\n",
    "  * A escala horizontal representa os valores das faixas de cada classe\n",
    "  * A escala vertical mede as frequências de cada classe\n",
    "  * As barras consecutivas devem estar encostadas umas nas outras"
   ]
  },
  {
   "cell_type": "code",
   "execution_count": 9,
   "metadata": {
    "id": "cH4riotTtVNN"
   },
   "outputs": [],
   "source": [
    "import matplotlib.pyplot as plt"
   ]
  },
  {
   "cell_type": "code",
   "execution_count": 10,
   "metadata": {
    "colab": {
     "base_uri": "https://localhost:8080/",
     "height": 295
    },
    "id": "0owWpIGIta5Q",
    "outputId": "c6c30223-057a-48df-e185-e3e4edc3fdbf"
   },
   "outputs": [
    {
     "data": {
      "image/png": "[encoded data removed]",
      "text/plain": [
       "<Figure size 432x288 with 1 Axes>"
      ]
     },
     "metadata": {
      "needs_background": "light"
     },
     "output_type": "display_data"
    }
   ],
   "source": [
    "#histograma de frequência\n",
    "plt.hist(alugueis,5)\n",
    "plt.xlabel('Classes')\n",
    "plt.ylabel('Quantidade')\n",
    "plt.title('Ocorrências das Classes')\n",
    "plt.grid(True)\n",
    "plt.show()"
   ]
  },
  {
   "cell_type": "markdown",
   "metadata": {
    "id": "QFzTQx-itpY_"
   },
   "source": [
    "## Medidas de Tendência Central\n",
    "* As distribuições de frequência e os gráficos de frequência são poderosas ferramentas descritivas de dados\n",
    "* Podemos adicionar algumas ferramentas interessantes a essa análise descritiva de dados: as medidas de tendência central\n",
    "* Uma medida de tendência central é um valor que representa um valor central do conjunto de dados\n",
    "* As três medidas de tendência central mais comumente usadas são a média, a mediana e a moda"
   ]
  },
  {
   "cell_type": "markdown",
   "metadata": {
    "id": "6tthfQJruQUK"
   },
   "source": [
    "### Média\n",
    "* A média de um conjunto de dados é a soma dos valores de dados dividida pelo número de total de valores\n",
    "* A média de uma população é tipicamente identificada pela letra grega $\\mu$  para uma população ($\\overline{x}$ para uma amostra) é calculada da seguinte forma:\n",
    "  * $ \\mu = \\dfrac{\\sum_{i=1}^nx_i}{n}$\n",
    "  * onde:\n",
    "    * n é o número de entradas da população estudada\n",
    "    * x_i é cada valor do conjunto\n",
    "    * $\\sum$ representa o somatório dos valores"
   ]
  },
  {
   "cell_type": "code",
   "execution_count": 11,
   "metadata": {
    "id": "MpuCwtaFvKaX"
   },
   "outputs": [
    {
     "data": {
      "text/plain": [
       "1621.0875"
      ]
     },
     "execution_count": 11,
     "metadata": {},
     "output_type": "execute_result"
    }
   ],
   "source": [
    "media_alugueis = sum(alugueis)/len(alugueis)\n",
    "media_alugueis"
   ]
  },
  {
   "cell_type": "code",
   "execution_count": 12,
   "metadata": {
    "id": "YY1oOzYmvW5m"
   },
   "outputs": [],
   "source": [
    "import numpy as np"
   ]
  },
  {
   "cell_type": "code",
   "execution_count": 13,
   "metadata": {
    "id": "csYVOVkzvcIb"
   },
   "outputs": [
    {
     "data": {
      "text/plain": [
       "1621.0875"
      ]
     },
     "execution_count": 13,
     "metadata": {},
     "output_type": "execute_result"
    }
   ],
   "source": [
    "np.mean(alugueis)"
   ]
  },
  {
   "cell_type": "markdown",
   "metadata": {
    "id": "WcNwQB_-vxtI"
   },
   "source": [
    "### Mediana\n",
    "* A mediana de um conjunto de dados é um valor que está no meio dos dados quando o conjunto de dados é ordenado\n",
    "* A mediana mede o centro de um conjunto de dados ordenado dividindo-se em duas partes iguais\n",
    "* Se o conjunto de dados tem um número ímpar de entradas, a mediana é a entrada de dados do meio\n",
    "* Se o conjunto de dados tem um número par de entradas, a mediana é a média das duas entradas do meio"
   ]
  },
  {
   "cell_type": "code",
   "execution_count": 14,
   "metadata": {
    "id": "gi2zQxyzv-2q"
   },
   "outputs": [
    {
     "data": {
      "text/plain": [
       "[985,\n",
       " 801,\n",
       " 1349,\n",
       " 1562,\n",
       " 1600,\n",
       " 1606,\n",
       " 1510,\n",
       " 959,\n",
       " 822,\n",
       " 1321,\n",
       " 1263,\n",
       " 1162,\n",
       " 1406,\n",
       " 1421,\n",
       " 1248,\n",
       " 1204,\n",
       " 1000,\n",
       " 683,\n",
       " 1650,\n",
       " 1927,\n",
       " 1543,\n",
       " 981,\n",
       " 986,\n",
       " 1416,\n",
       " 1985,\n",
       " 506,\n",
       " 431,\n",
       " 1167,\n",
       " 1098,\n",
       " 1096,\n",
       " 1501,\n",
       " 1360,\n",
       " 1526,\n",
       " 1550,\n",
       " 1708,\n",
       " 1005,\n",
       " 1623,\n",
       " 1712,\n",
       " 1530,\n",
       " 1605,\n",
       " 1538,\n",
       " 1746,\n",
       " 1472,\n",
       " 1589,\n",
       " 1913,\n",
       " 1815,\n",
       " 2115,\n",
       " 2475,\n",
       " 2927,\n",
       " 1635,\n",
       " 1812,\n",
       " 1107,\n",
       " 1450,\n",
       " 1917,\n",
       " 1807,\n",
       " 1461,\n",
       " 1969,\n",
       " 2402,\n",
       " 1446,\n",
       " 1851,\n",
       " 2134,\n",
       " 1685,\n",
       " 1944,\n",
       " 2077,\n",
       " 605,\n",
       " 1872,\n",
       " 2133,\n",
       " 1891,\n",
       " 623,\n",
       " 1977,\n",
       " 2132,\n",
       " 2417,\n",
       " 2046,\n",
       " 2056,\n",
       " 2192,\n",
       " 2744,\n",
       " 3239,\n",
       " 3117,\n",
       " 2471,\n",
       " 2077]"
      ]
     },
     "execution_count": 14,
     "metadata": {},
     "output_type": "execute_result"
    }
   ],
   "source": [
    "# ordenando conjunto\n",
    "algueis = sorted(alugueis)\n",
    "alugueis"
   ]
  },
  {
   "cell_type": "code",
   "execution_count": 15,
   "metadata": {
    "id": "mr0HE34swDZU"
   },
   "outputs": [
    {
     "data": {
      "text/plain": [
       "1571.5"
      ]
     },
     "execution_count": 15,
     "metadata": {},
     "output_type": "execute_result"
    }
   ],
   "source": [
    "#verifica se o tamanho do conjunto é par ou impar\n",
    "if len(alugueis)%2 == 0:\n",
    "  mediana = (alugueis[int(len(algueis)/2-1)] + alugueis[int(len(algueis)/2)])/2\n",
    "else:\n",
    "  mediana = alugueis[int(len(algueis)/2-1)]\n",
    "mediana"
   ]
  },
  {
   "cell_type": "code",
   "execution_count": 16,
   "metadata": {
    "id": "drO92VntxSEu"
   },
   "outputs": [
    {
     "data": {
      "text/plain": [
       "1594.5"
      ]
     },
     "execution_count": 16,
     "metadata": {},
     "output_type": "execute_result"
    }
   ],
   "source": [
    "np.median(alugueis)"
   ]
  },
  {
   "cell_type": "markdown",
   "metadata": {
    "id": "Ge9BRB12xNpM"
   },
   "source": [
    "### Moda\n",
    "* A moda de um conjunto de dados é uma entrada do conjunto que ocorre com maior frequência\n",
    "* Se nenhuma entrada é repetida, o conjunto de dados não tem moda\n",
    "* Se duas entradas ocorrem com a mesma frequência, cada entrada é\n",
    "uma moda e o conjunto é chamado bimodal"
   ]
  },
  {
   "cell_type": "code",
   "execution_count": 17,
   "metadata": {
    "id": "x-C8BZjbykl3"
   },
   "outputs": [
    {
     "data": {
      "text/plain": [
       "[0,\n",
       " 0,\n",
       " 0,\n",
       " 0,\n",
       " 0,\n",
       " 0,\n",
       " 0,\n",
       " 0,\n",
       " 0,\n",
       " 0,\n",
       " 0,\n",
       " 0,\n",
       " 0,\n",
       " 0,\n",
       " 0,\n",
       " 0,\n",
       " 0,\n",
       " 0,\n",
       " 0,\n",
       " 0,\n",
       " 0,\n",
       " 0,\n",
       " 0,\n",
       " 0,\n",
       " 0,\n",
       " 0,\n",
       " 0,\n",
       " 0,\n",
       " 0,\n",
       " 0,\n",
       " 0,\n",
       " 0,\n",
       " 0,\n",
       " 0,\n",
       " 0,\n",
       " 0,\n",
       " 0,\n",
       " 0,\n",
       " 0,\n",
       " 0,\n",
       " 0,\n",
       " 0,\n",
       " 0,\n",
       " 0,\n",
       " 0,\n",
       " 0,\n",
       " 0,\n",
       " 0,\n",
       " 0,\n",
       " 0,\n",
       " 0,\n",
       " 0,\n",
       " 0,\n",
       " 0,\n",
       " 0,\n",
       " 0,\n",
       " 0,\n",
       " 0,\n",
       " 0,\n",
       " 0,\n",
       " 0,\n",
       " 0,\n",
       " 0,\n",
       " 0,\n",
       " 0,\n",
       " 0,\n",
       " 0,\n",
       " 0,\n",
       " 0,\n",
       " 0,\n",
       " 0,\n",
       " 0,\n",
       " 0,\n",
       " 0,\n",
       " 0,\n",
       " 0,\n",
       " 0,\n",
       " 0,\n",
       " 0,\n",
       " 0]"
      ]
     },
     "execution_count": 17,
     "metadata": {},
     "output_type": "execute_result"
    }
   ],
   "source": [
    "contagens = [0]*len(alugueis)\n",
    "contagens"
   ]
  },
  {
   "cell_type": "code",
   "execution_count": 18,
   "metadata": {
    "id": "4-nvlPC8yts2"
   },
   "outputs": [
    {
     "data": {
      "text/plain": [
       "[1,\n",
       " 1,\n",
       " 1,\n",
       " 1,\n",
       " 1,\n",
       " 1,\n",
       " 1,\n",
       " 1,\n",
       " 1,\n",
       " 1,\n",
       " 1,\n",
       " 1,\n",
       " 1,\n",
       " 1,\n",
       " 1,\n",
       " 1,\n",
       " 1,\n",
       " 1,\n",
       " 1,\n",
       " 1,\n",
       " 1,\n",
       " 1,\n",
       " 1,\n",
       " 1,\n",
       " 1,\n",
       " 1,\n",
       " 1,\n",
       " 1,\n",
       " 1,\n",
       " 1,\n",
       " 1,\n",
       " 1,\n",
       " 1,\n",
       " 1,\n",
       " 1,\n",
       " 1,\n",
       " 1,\n",
       " 1,\n",
       " 1,\n",
       " 1,\n",
       " 1,\n",
       " 1,\n",
       " 1,\n",
       " 1,\n",
       " 1,\n",
       " 1,\n",
       " 1,\n",
       " 1,\n",
       " 1,\n",
       " 1,\n",
       " 1,\n",
       " 1,\n",
       " 1,\n",
       " 1,\n",
       " 1,\n",
       " 1,\n",
       " 1,\n",
       " 1,\n",
       " 1,\n",
       " 1,\n",
       " 1,\n",
       " 1,\n",
       " 1,\n",
       " 1,\n",
       " 1,\n",
       " 2,\n",
       " 2,\n",
       " 1,\n",
       " 1,\n",
       " 1,\n",
       " 1,\n",
       " 1,\n",
       " 1,\n",
       " 1,\n",
       " 1,\n",
       " 1,\n",
       " 1,\n",
       " 1,\n",
       " 1,\n",
       " 1]"
      ]
     },
     "execution_count": 18,
     "metadata": {},
     "output_type": "execute_result"
    }
   ],
   "source": [
    "#contando ocorrências\n",
    "for i in range(len(algueis)):\n",
    "  contagens[i] = alugueis.count(algueis[i])\n",
    "contagens"
   ]
  },
  {
   "cell_type": "code",
   "execution_count": 19,
   "metadata": {
    "id": "cWACNVQEzMv3"
   },
   "outputs": [
    {
     "data": {
      "text/plain": [
       "2"
      ]
     },
     "execution_count": 19,
     "metadata": {},
     "output_type": "execute_result"
    }
   ],
   "source": [
    "max(contagens)"
   ]
  },
  {
   "cell_type": "code",
   "execution_count": 20,
   "metadata": {
    "id": "vqvUORsLzWRS"
   },
   "outputs": [
    {
     "name": "stdout",
     "output_type": "stream",
     "text": [
      "2077\n",
      "2077\n"
     ]
    }
   ],
   "source": [
    "indices_moda = np.where(np.array(contagens) == max(contagens))\n",
    "for indice in indices_moda[0]:\n",
    "  print(algueis[indice])"
   ]
  },
  {
   "cell_type": "code",
   "execution_count": 22,
   "metadata": {
    "id": "6PE06SnS1vdm"
   },
   "outputs": [
    {
     "data": {
      "text/plain": [
       "ModeResult(mode=array([2077]), count=array([2]))"
      ]
     },
     "execution_count": 22,
     "metadata": {},
     "output_type": "execute_result"
    }
   ],
   "source": [
    "from scipy import stats\n",
    "stats.mode(alugueis)"
   ]
  },
  {
   "cell_type": "markdown",
   "metadata": {
    "id": "Oi2xPIN82U9k"
   },
   "source": [
    "## Qual medida de tendência centrar eu devo utilizar?\n",
    "* Média e Mediana são mais comumente utilizadas para representar resumir um conjunto de dados\n",
    "* Média é muito influenciada por valores discrepantes\n",
    "  * valores que distoam bastante do conjunto de dados\n",
    "  * outliers ou pontos fora da curva ou valores aberrantes\n",
    "* Mediana não é tão afetada pelo valor aberrante"
   ]
  },
  {
   "cell_type": "markdown",
   "metadata": {
    "id": "AwXkcaNH32M9"
   },
   "source": [
    "### Média ponderada\n",
    "* As vezes, os dados contêm entradas que têm maior importância na média que outras entradas\n",
    "* Nestes casos, temos que calcular a média levando em consideração os pesos de cada entada\n",
    "* A fórmula para o cálculo da média ponderada é dada por:\n",
    "  * $\\mu = \\dfrac{\\sum_{i=1}^n(x_i*w_i)}{\\sum w}$\n",
    "  * onde $w$ é o conjunto de pesos para as entradas\n",
    "* Exemplo: cálculo da nota de uma disciplina\n",
    "  * 50% do exame\n",
    "  * 15% do exame bimestral\n",
    "  * 20% do exame final\n",
    "  * 10% do trabalho de laboratório de informática\n",
    "  * 5% de seus deveres de casa"
   ]
  },
  {
   "cell_type": "code",
   "execution_count": 23,
   "metadata": {
    "id": "-_ZWqP7v4iM8"
   },
   "outputs": [],
   "source": [
    "notas = [86,96,82,98,100]\n",
    "pesos = [50,15,20,10,5]"
   ]
  },
  {
   "cell_type": "code",
   "execution_count": 25,
   "metadata": {
    "id": "Wk-uoHMR4q9L"
   },
   "outputs": [
    {
     "data": {
      "text/plain": [
       "88.6"
      ]
     },
     "execution_count": 25,
     "metadata": {},
     "output_type": "execute_result"
    }
   ],
   "source": [
    "soma_ponderada = 0\n",
    "for i in range(len(notas)):\n",
    "    soma_ponderada += notas[i]*pesos[i]\n",
    "media_ponderada = soma_ponderada/sum(pesos)\n",
    "media_ponderada"
   ]
  },
  {
   "cell_type": "markdown",
   "metadata": {
    "id": "Th6gbGIT5SqJ"
   },
   "source": [
    "# Medidas de Variação\n",
    "\n",
    "* As medidas de tendência central, como média, mediana e moda, são importantes pois representam um resumo dos dados, um valor de referência para o conjunto de dados\n",
    "* No entanto, elas não dão ideia de como os dados daquele conjunto\n",
    "variam Considerem os dois conjuntos de dados a seguir:\n",
    "  * $x_1 = \\{48,53,50,47,52\\}$\n",
    "  * $x_2 = \\{12,71,50,88,29\\}$\n",
    "* Ambos tem como média e mediana o valor 50\n",
    "  * No entanto, a variação nos conjuntos é bem diferente\n",
    "* As medidas de tendência central, sozinhas, não informam muito sobre o conjunto de dados\n",
    "* Quando combinadas com medidas de variação, conseguem definir de forma mais clara os dados que estão sendo sumarizados\n",
    "* Existem várias medidas de dispersão\n",
    "* As principais são: amplitude, variância e desvio padrão"
   ]
  },
  {
   "cell_type": "markdown",
   "metadata": {
    "id": "JbpVOrU_57R2"
   },
   "source": [
    "### Amplitude\n",
    "* Medida de variação mais simples\n",
    "* A amplitude de um conjunto de dados é a diferença entre as entradas máximas e mı́nimas no conjunto\n",
    "* A amplitude é dada por:\n",
    "  *Amplitude = (Maior valor nos dados) – (Menor valor nos dados)"
   ]
  },
  {
   "cell_type": "code",
   "execution_count": 26,
   "metadata": {
    "id": "MIvmLAp56GwB"
   },
   "outputs": [
    {
     "data": {
      "text/plain": [
       "2808"
      ]
     },
     "execution_count": 26,
     "metadata": {},
     "output_type": "execute_result"
    }
   ],
   "source": [
    "amplitude = max(alugueis) - min(alugueis)\n",
    "amplitude"
   ]
  },
  {
   "cell_type": "markdown",
   "metadata": {
    "id": "asX4Vcfp6P8f"
   },
   "source": [
    "* A grande vantagem da medida de amplitude é que ela é muito fácil de se calcular\n",
    "* No entanto ela apresenta uma falha grave\n",
    "  * A amplitude usa somente duas entradas do conjunto de dados, desprezando as demais\n",
    "  * Se por acaso, o valor máximo e o valor mínimo do conjunto de dados forem pontos discrepantes, a amplitude não refletirá uma variaçã real dos dados"
   ]
  },
  {
   "cell_type": "markdown",
   "metadata": {
    "id": "OUluL9IC6YR-"
   },
   "source": [
    "### Variância e Desvio Padrão\n",
    "* Duas medidas de variação que usam todas as entradas do conjunto de dados são a variância e o desvio padrão\n",
    "* Tais medidas são mais inteligentes pois consideram todo o conjunto de dados, e assim são mais representativas\n",
    "* A variância de um conjunto de dados é a média das diferenças quadrada entre cada observação e a média do conjunto\n",
    "  * mede quanto cada observação varia em relação a tendência central\n",
    "* Cálculo da variância:\n",
    "  * $\\sigma^2 = \\dfrac{\\sum_{i=1}^n(x_i - \\mu)^2}{n}$\n",
    "* O desvio padrão é simplesmente a raiz quadrada da variância\n",
    "  * $\\sigma =  \\sqrt{\\sigma^2}$\n"
   ]
  },
  {
   "cell_type": "code",
   "execution_count": 27,
   "metadata": {
    "id": "Aw6uEUNj8F_8"
   },
   "outputs": [
    {
     "data": {
      "text/plain": [
       "315641.85484375"
      ]
     },
     "execution_count": 27,
     "metadata": {},
     "output_type": "execute_result"
    }
   ],
   "source": [
    "var = 0\n",
    "media = np.mean(alugueis)\n",
    "for numero in alugueis:\n",
    "  var += (numero - media)**2\n",
    "var = var/len(alugueis)\n",
    "var"
   ]
  },
  {
   "cell_type": "code",
   "execution_count": 28,
   "metadata": {
    "id": "7Gc5vUPs8ZtL"
   },
   "outputs": [
    {
     "data": {
      "text/plain": [
       "561.8201267699031"
      ]
     },
     "execution_count": 28,
     "metadata": {},
     "output_type": "execute_result"
    }
   ],
   "source": [
    "desv = var**(1/2)\n",
    "desv"
   ]
  },
  {
   "cell_type": "code",
   "execution_count": 29,
   "metadata": {
    "id": "HGk1NC3T8el3"
   },
   "outputs": [
    {
     "data": {
      "text/plain": [
       "315641.85484375"
      ]
     },
     "execution_count": 29,
     "metadata": {},
     "output_type": "execute_result"
    }
   ],
   "source": [
    "np.var(alugueis)"
   ]
  },
  {
   "cell_type": "code",
   "execution_count": 30,
   "metadata": {
    "id": "Dj8MNkCI8lwM"
   },
   "outputs": [
    {
     "data": {
      "text/plain": [
       "561.8201267699031"
      ]
     },
     "execution_count": 30,
     "metadata": {},
     "output_type": "execute_result"
    }
   ],
   "source": [
    "np.std(alugueis)"
   ]
  },
  {
   "cell_type": "markdown",
   "metadata": {
    "id": "g3MlmZlz9PRu"
   },
   "source": [
    "### Interpretando variância e desvio padrão\n",
    "* Ambas as medias dão ideia da intensidade da dispersão entre os dados e a tendência central\n",
    "  * quanto maior a variância e desvio padrão, mais os dados se dispersam em relação à média"
   ]
  },
  {
   "cell_type": "code",
   "execution_count": 31,
   "metadata": {
    "id": "8iPJQvqB9l1k"
   },
   "outputs": [],
   "source": [
    "media = 100\n",
    "desvio = 5\n",
    "dados1 = np.random.normal(media,desvio,1000)\n",
    "\n",
    "media = 130\n",
    "desvio = 5\n",
    "dados2 = np.random.normal(media,desvio,1000)\n",
    "\n",
    "media = 100\n",
    "desvio = 10\n",
    "dados3 = np.random.normal(media,desvio,1000)"
   ]
  },
  {
   "cell_type": "code",
   "execution_count": 32,
   "metadata": {
    "id": "zg7Qus3DP6LR"
   },
   "outputs": [
    {
     "data": {
      "text/plain": [
       "array([106.41666389,  97.38559991, 103.13032636, 100.61953329,\n",
       "        89.7815959 ,  95.27445486, 109.84547755,  91.71277098,\n",
       "        92.27062283,  98.60729213, 101.45726935, 106.71416125,\n",
       "       107.08001771, 101.22561091,  93.68513582, 105.19888709,\n",
       "       103.27452264,  96.37975314,  90.65381746, 105.18969353,\n",
       "        89.94920086, 100.26190275, 110.22305107, 106.30234416,\n",
       "       104.19177236,  98.31954693,  94.2747268 , 105.02963223,\n",
       "       103.62100656,  96.98260462, 106.32080745,  95.54092366,\n",
       "       101.57462791,  97.61021222, 103.15533885,  95.3884907 ,\n",
       "        99.56889408,  92.51240646,  99.06513547, 101.4844959 ,\n",
       "       104.52483277, 103.63773939,  92.81266249, 102.41418368,\n",
       "        97.83970914, 100.07632681, 100.05386308, 106.55874298,\n",
       "       102.07714613,  97.28940734, 100.85717615, 108.96242513,\n",
       "       100.01931755,  98.40413364,  99.90940813, 102.92406429,\n",
       "       100.0596873 ,  97.15982835, 105.17178189, 102.52068516,\n",
       "        94.51490736,  93.78853668, 101.3940853 , 101.4515994 ,\n",
       "        96.61880686, 100.80929293,  98.22341159, 103.19694321,\n",
       "        97.97749679,  89.00805121,  93.82610394,  95.24792149,\n",
       "       103.1786054 ,  90.77343796, 107.05386883,  92.79391878,\n",
       "        99.32351153, 103.74735046,  97.2552552 , 100.13735699,\n",
       "       102.96460719,  99.92487903,  96.21798683,  99.80569702,\n",
       "       101.59802889, 103.99546138, 107.33538193,  96.67487336,\n",
       "        94.65754386,  97.72703503,  94.84313095, 107.88176175,\n",
       "       104.49493502,  94.95431013, 106.28685564, 100.96058012,\n",
       "       110.21154261,  98.91420123, 107.74034999, 103.25370192,\n",
       "       106.12170133, 106.76565575,  95.87792013,  99.70684742,\n",
       "       101.71038635,  95.25051734, 106.9195191 ,  96.45963582,\n",
       "       106.91690395,  95.70300454, 107.24455381, 107.00331393,\n",
       "       107.23678423,  93.83477755, 101.99394166, 104.07735542,\n",
       "       113.25673902,  91.76059107, 111.47148251,  96.39574415,\n",
       "       102.22675102, 104.56940432,  99.95026213, 105.64280373,\n",
       "       109.54922763, 100.41164145, 102.00078036, 101.73043167,\n",
       "       101.17929684, 102.39352381,  96.88475638,  96.42445869,\n",
       "       101.68634667,  97.8000787 ,  94.58256645, 101.4222639 ,\n",
       "        85.63663576,  98.20513797, 110.72420178,  91.65148598,\n",
       "       106.04070364, 103.56587717, 100.80409632,  93.70305881,\n",
       "        99.10913683, 100.24165213,  96.47678788,  87.16911439,\n",
       "        93.22602971, 105.02869211,  97.45312207, 104.30817017,\n",
       "       102.31134908,  98.24865616, 102.5842262 ,  92.86087819,\n",
       "       104.96288849, 100.92833217,  91.92662622, 102.2630003 ,\n",
       "        94.37674868, 106.49681488,  98.1869593 , 101.89270381,\n",
       "       106.26475976, 104.47391335,  98.02054436, 103.96134088,\n",
       "        99.96816479,  99.65322489,  98.66260195, 101.83138034,\n",
       "        98.53133039,  96.15891721,  94.54669748, 105.05160939,\n",
       "        94.7430471 ,  97.30811933, 102.3987922 ,  92.24046087,\n",
       "        98.80159179, 104.8365242 ,  98.44610792,  99.8610373 ,\n",
       "        99.43948415,  96.83852761,  95.10864407,  94.2715972 ,\n",
       "        97.23435918,  95.05443763, 103.12345434,  97.02430133,\n",
       "        86.85565183,  97.41757214,  99.34797239,  95.174584  ,\n",
       "        92.76328771, 109.45634726,  95.70266407, 103.22796218,\n",
       "       104.29046934, 100.09856168, 103.7769302 ,  98.18880653,\n",
       "       101.6632897 , 108.1557797 ,  94.36107833, 103.3096711 ,\n",
       "        94.10764415, 100.01075279,  98.16751683,  91.46423427,\n",
       "       112.05677987, 104.21429731, 101.79721775, 104.20095393,\n",
       "        97.4180417 ,  95.79656787, 107.29352767, 105.94874652,\n",
       "       101.49401293,  91.305343  ,  97.50752702, 105.65626386,\n",
       "       104.91046249,  95.70575904, 102.88474918, 109.3974923 ,\n",
       "        95.53546379, 102.85047651,  95.97405264,  99.05284632,\n",
       "       102.65813197,  99.52840414, 110.14684278,  88.74263668,\n",
       "        89.97158927,  99.21266567, 103.88558062,  98.07482366,\n",
       "        93.18602242,  96.87199614, 101.66442165, 103.30308825,\n",
       "        97.19743461,  96.4599817 ,  97.49138632, 103.75804872,\n",
       "        97.34504287, 102.9654126 , 111.8734484 , 102.90653018,\n",
       "       105.73062239, 105.71738891, 106.4436713 ,  98.31069122,\n",
       "       104.3704246 ,  92.91297632,  98.53544953, 109.20956451,\n",
       "        95.58521928,  95.5699406 , 100.27992017,  96.5386074 ,\n",
       "        98.08480318,  89.57272638, 103.16649483, 101.5482107 ,\n",
       "        96.44505003, 100.76229353, 105.23977048,  97.25561212,\n",
       "        96.25713762,  90.8728465 , 104.82647529,  97.52954195,\n",
       "       101.27686426, 102.02120916, 107.43850066,  94.64657842,\n",
       "        96.34007625,  91.5068859 ,  98.96004936,  94.71038965,\n",
       "       103.51494994, 106.62337089, 100.45484581,  99.47240507,\n",
       "        92.37106909,  94.63224926,  93.97314509,  99.50557257,\n",
       "        99.72567773,  94.47600038, 102.1403154 , 107.61263246,\n",
       "        99.22684506, 103.03566191, 101.41919378,  96.93428295,\n",
       "       104.73885049,  96.9765194 , 100.87928672,  98.64494892,\n",
       "        94.34646926, 102.91141331, 103.09893849,  95.24789751,\n",
       "        98.95676574, 104.57803771, 100.79421998,  96.96397294,\n",
       "        93.75483239,  94.67786011,  88.96951302,  96.00559556,\n",
       "        99.89682667, 101.57217611,  94.59424132,  96.48363855,\n",
       "        99.14325261, 102.54056247, 101.31849222,  95.88661249,\n",
       "       105.0064337 , 108.0380138 ,  99.95804553,  94.78033551,\n",
       "       100.56276616,  98.13891769,  94.76057109,  95.79459288,\n",
       "       103.95337371,  99.43310669, 102.86585791,  94.55298992,\n",
       "       105.9129083 , 104.23188656,  94.13839589, 106.95586922,\n",
       "        99.72827174, 110.64270708, 103.73591856, 104.70161339,\n",
       "        95.2197116 ,  96.66414178,  99.47164894, 101.3442743 ,\n",
       "       101.64371674,  92.8719771 , 100.72519468, 104.29227055,\n",
       "        91.14313385,  97.90340359, 101.26486039,  96.82698826,\n",
       "        97.63242395,  87.12378351,  99.00774268,  99.09746048,\n",
       "       102.19911659, 101.39987012, 100.51967539,  97.65996077,\n",
       "        96.97294502,  95.26126135, 106.77050204,  99.10154451,\n",
       "        88.46655494,  93.42428605,  89.86014907,  98.49479832,\n",
       "       110.15319816, 104.68932122, 102.08047732,  97.3403614 ,\n",
       "       102.72205881,  96.40959562, 106.34119993,  96.24150426,\n",
       "        95.41317184,  97.16144697,  94.4223513 ,  98.2349868 ,\n",
       "       102.7056047 ,  94.02388563,  91.0059425 ,  90.05041856,\n",
       "        94.57013432,  95.16606539, 104.50686254,  94.94165266,\n",
       "       102.27214226, 106.73564942,  90.43538383,  99.41352785,\n",
       "        95.41130094, 100.10537972, 105.35016133,  99.45036345,\n",
       "        91.75135904, 105.61352805,  96.85484446, 104.1699907 ,\n",
       "       102.78833961,  97.09810399,  99.90360792, 109.12268668,\n",
       "        95.27858901, 101.39051933, 107.39890229, 103.55239796,\n",
       "        93.78880893, 100.91572358, 101.58164562, 106.14285062,\n",
       "       106.82506281,  92.48506808,  96.0657874 , 100.8554545 ,\n",
       "        99.36555904,  97.92473252,  98.2403416 ,  91.46153574,\n",
       "       108.85057616,  94.65529551, 101.64962064,  96.82730343,\n",
       "       100.97012412,  97.36026205, 107.97810356,  88.74064499,\n",
       "       107.02277012, 109.43380982,  98.42908306, 104.13629763,\n",
       "        95.76580622, 104.19989421,  98.74430687, 105.67165301,\n",
       "       102.3460093 , 106.64233745,  96.07859665,  90.97062259,\n",
       "        97.52498142,  96.08523847, 106.08329783,  97.2759576 ,\n",
       "       110.32226675,  91.41607054,  99.78472591,  95.62285931,\n",
       "       102.52835666, 100.31532953, 105.68691887,  97.48718184,\n",
       "       100.05947311,  93.77171756, 107.92014203,  95.74308172,\n",
       "        90.84319603, 103.78398954,  99.67926044,  96.17868803,\n",
       "        94.6417328 , 103.10381211,  96.91921162, 100.95776594,\n",
       "        95.1926409 , 100.92072351, 105.77267735,  95.8814169 ,\n",
       "        97.67352676,  98.52102193, 102.89230704, 103.14717906,\n",
       "       105.60749051,  97.5023847 , 100.37362902, 106.06526754,\n",
       "        91.89413071, 101.94908209,  99.93184744,  98.18501902,\n",
       "        92.98676524,  95.51795829,  90.2558226 , 107.61634726,\n",
       "        93.1423767 ,  98.79531883, 101.97427721, 102.28427606,\n",
       "        98.86607162,  95.08346101, 108.13320584, 105.48049121,\n",
       "       103.4979903 , 101.41508463, 100.04775791,  92.72028062,\n",
       "        98.47935148, 107.0478156 , 104.05762034,  96.6148914 ,\n",
       "        93.90828809,  92.8397358 , 108.03508282,  97.958374  ,\n",
       "        98.6286639 , 100.81011542,  95.26379236, 101.280974  ,\n",
       "        94.9794691 , 100.5519951 , 101.74943552, 100.40524228,\n",
       "       100.9578139 , 108.32090107,  97.0293684 , 106.51200689,\n",
       "        99.08156905,  88.01343001, 102.14439927,  96.45498274,\n",
       "       102.63973549, 107.20010434,  97.1887087 , 100.20087638,\n",
       "       107.65502529,  97.32893267, 102.59893528,  99.87558893,\n",
       "       106.56120021,  95.27196765,  95.95193184, 106.00518483,\n",
       "        96.41202712,  97.96364564,  92.15270553,  95.60865178,\n",
       "        88.88184083, 102.42933828,  99.21645815,  87.53840808,\n",
       "       102.900255  , 100.53718881,  95.73513468,  97.64692769,\n",
       "       103.98562352,  95.42768099, 102.15455472, 110.58301749,\n",
       "        98.80958646, 104.12753953,  98.9174602 , 102.25336236,\n",
       "       101.11178076, 103.63198654,  95.72642548,  99.94255644,\n",
       "       111.29349757, 101.93943174, 104.73312657,  96.36493018,\n",
       "        98.9324252 ,  95.01163085,  93.67122627,  94.09791628,\n",
       "       104.23084695, 101.02529051, 104.03622702,  85.65822047,\n",
       "        98.55188616, 105.45044182,  97.06658615, 100.6787044 ,\n",
       "        94.84001967, 103.76998434, 104.64608782, 104.29846623,\n",
       "        97.20059671, 100.68314755,  99.23477758, 110.80571391,\n",
       "       101.85093578,  99.1830068 ,  98.34710026,  97.1016308 ,\n",
       "        98.52832494, 100.77604067, 110.83033071, 101.95041527,\n",
       "       106.14571635, 100.34301488,  95.50046148, 100.76691481,\n",
       "       105.17059318,  93.43494831, 101.48907663, 104.43679896,\n",
       "       112.36481444, 100.03659029,  99.7949625 , 104.59868454,\n",
       "        97.89806345, 101.57839697, 106.05759229, 105.82754938,\n",
       "        98.79649438, 104.45355991, 100.12156587,  90.19120815,\n",
       "       105.0146982 , 100.27809793, 103.76123645,  99.54815585,\n",
       "       105.91794999,  98.53908644,  99.48138801,  92.08547839,\n",
       "       109.77856568, 101.66653707,  99.40922161,  95.80200931,\n",
       "        95.10572384, 100.4672278 ,  95.59101818, 101.8509708 ,\n",
       "        92.44351311,  92.95799261, 102.48157153,  94.7811915 ,\n",
       "        95.06581445, 106.02161663,  98.72697331,  97.4135526 ,\n",
       "       109.11310296, 105.38014017, 101.67350943,  96.77323856,\n",
       "       112.77387426, 111.97878778,  93.72062276,  98.20233752,\n",
       "        97.14062218, 101.07372124, 100.16716813,  97.20309194,\n",
       "        94.99978287,  95.20651854, 100.63514958, 102.68231809,\n",
       "        99.35456951, 103.28829416, 101.93893839,  97.43541772,\n",
       "       101.56681486, 107.19364201,  92.97326956,  97.83625621,\n",
       "       101.15002983,  97.82811309, 100.66698691,  93.94713046,\n",
       "        95.94518021,  90.3124344 ,  95.10193085, 101.75340523,\n",
       "       106.70697532,  96.38611529, 100.41789578,  90.87867242,\n",
       "        95.66449712, 106.04595151,  99.23016848,  99.2414567 ,\n",
       "       102.83843303,  87.62799508, 103.89468334,  99.62967277,\n",
       "        96.97748294, 105.66062756,  95.99976742, 108.1538919 ,\n",
       "       101.88228957,  89.77502907, 106.95324707,  93.65281867,\n",
       "        98.22146833, 101.19110913,  94.16999269, 102.70273183,\n",
       "        99.85742883, 102.50802563,  99.14007818, 102.93527598,\n",
       "       106.28869812, 104.87956818,  97.85952246,  97.5186089 ,\n",
       "        96.52136426,  94.91355151,  95.43249986, 109.12533551,\n",
       "       100.55424214,  90.01791573, 111.49297453,  92.23326623,\n",
       "       100.45141812,  94.73632765, 100.83713754,  93.55599737,\n",
       "       106.47850265,  94.24493459, 102.8557305 ,  96.35946961,\n",
       "       105.07536982, 101.67617446,  98.80070423,  99.87478381,\n",
       "        90.66791452,  97.47539698, 103.83432222,  97.45375057,\n",
       "        95.83991392, 109.47655992,  98.41900966,  99.28428287,\n",
       "       106.24186577, 101.00519063,  93.4664357 ,  98.28388118,\n",
       "        96.5339887 ,  94.49078768,  95.56458412, 102.1372862 ,\n",
       "       101.09333299,  98.01745724,  95.39683258,  96.29277896,\n",
       "       104.46542807, 100.26480625, 102.33829595,  94.27117188,\n",
       "        92.72344605, 102.68854553, 103.3053434 , 100.36830924,\n",
       "        94.17353733,  96.47791283, 106.65768034, 110.75854945,\n",
       "       101.57336475,  97.65551072, 101.30719983, 105.19963271,\n",
       "        97.68793384, 107.95864795, 101.32449412,  93.81460179,\n",
       "        93.56065499, 105.0150594 , 105.04483235,  95.09352736,\n",
       "        93.9297259 ,  98.78537259,  95.50493646,  97.55447139,\n",
       "        97.29761068,  98.29783684, 105.25994845, 104.25862192,\n",
       "        92.72565479, 101.33617106, 109.69860613, 106.69859194,\n",
       "        88.08166724, 102.18817409, 109.45189542, 100.58845157,\n",
       "        87.93475068,  95.40446656, 102.43551885,  97.76748599,\n",
       "        95.58080449,  96.70867894, 102.92077204, 106.07516065,\n",
       "       107.08112943, 104.3615649 , 101.79217083,  94.07102753,\n",
       "        96.89299116, 100.91340427, 103.71208562,  96.70101243,\n",
       "       109.24300048, 105.64384574,  99.70631399,  99.76158041,\n",
       "       102.8528415 ,  97.36972668, 100.34019168,  98.36969324,\n",
       "       102.27407081,  97.85344843, 106.81093387, 103.67137115,\n",
       "        95.78615864, 106.08643828, 109.3172569 , 102.73909506,\n",
       "       106.99760903, 105.11006165,  99.84825264,  96.22902164,\n",
       "       100.75001555,  96.56150697,  98.1966455 , 103.74336321,\n",
       "        98.70932422, 106.11648013,  96.38024322, 105.93893588,\n",
       "       102.16381739, 106.72011598, 100.69668208, 104.94131651,\n",
       "        99.45538426,  98.03592604, 103.20140653,  91.51779171,\n",
       "        96.99964798, 103.01849006, 108.51698975, 100.96888857,\n",
       "       105.18078751,  99.75187966,  94.09987576, 101.02671828,\n",
       "       105.53743388, 103.19498299, 103.7531647 ,  97.39293817,\n",
       "        95.45079342,  97.65438976, 104.16028221, 104.8364337 ,\n",
       "       107.64016066,  96.14235   ,  99.55546559,  95.66025104,\n",
       "        85.23943863,  91.03854594,  96.12868707,  99.22616467,\n",
       "       101.48541906,  96.50229188,  91.87585548,  91.27164823,\n",
       "        97.54843388, 104.4223643 , 102.33633158,  97.60518901,\n",
       "       105.00621182, 109.80604121, 101.4852966 ,  90.90840088,\n",
       "       104.84045649,  92.88331883,  98.28620808,  90.85656895,\n",
       "       100.97121737,  93.93928553,  89.0962852 , 102.66126621,\n",
       "        93.16025977,  96.96459068,  99.69544873, 106.11118476,\n",
       "        93.7881953 , 107.27228163,  98.86424625, 106.57760447,\n",
       "       106.55927299,  95.32050413, 112.14355304,  95.2806203 ,\n",
       "        99.74466519,  97.55357424, 113.51602933,  98.32174132,\n",
       "       105.89173172,  96.19398767,  94.36498036,  98.96189099,\n",
       "        91.14806596, 100.34706723, 100.39146171,  92.96113644,\n",
       "        97.87659643, 112.71822633, 101.04184061,  95.13789012,\n",
       "        93.08352226, 106.19639517, 100.69587331, 101.94724381,\n",
       "        97.01055933,  98.80356208, 106.86040241,  91.30192545,\n",
       "        98.01405271, 103.88298732,  98.45485884,  86.39350921,\n",
       "       105.55098629, 106.951147  , 106.88648426, 100.21939765,\n",
       "       103.34714201,  96.75039897,  97.61704448, 106.39262912,\n",
       "       101.88626146, 106.84492196, 106.51275529, 100.69648086,\n",
       "        97.1555735 ,  93.74466306, 103.1285762 ,  99.62288205,\n",
       "       100.96456724,  96.94787323,  98.70031783, 103.44513905,\n",
       "       102.87968184,  90.01670026, 100.52460043,  97.95940576,\n",
       "        98.27082909,  97.14635631,  94.87111751,  90.63223748,\n",
       "        94.35199563, 111.32764822, 102.78042325,  96.15908146,\n",
       "       103.62943157,  93.48505572, 103.09249559, 103.03697874,\n",
       "        90.89442412, 102.1042536 ,  98.301821  , 110.93037246,\n",
       "       101.27814506, 103.92251119,  98.1091424 , 105.61108952,\n",
       "        90.71916843, 101.86908797,  96.64282991,  94.22970594,\n",
       "       107.61333295,  98.24884235,  95.43167212, 101.40221654,\n",
       "       107.25447256,  98.91515741, 101.51602518,  95.59625378,\n",
       "        97.42679883, 103.41608036, 102.51837104,  98.14846988,\n",
       "       100.14400843, 100.9038027 ,  96.56322662, 108.66366075,\n",
       "       101.79406018,  95.43708166,  95.60074107, 112.01195102,\n",
       "       113.45798135, 112.00666404, 106.37465227,  91.28518394,\n",
       "        94.71332187, 100.48439481, 104.24709039,  97.6220868 ,\n",
       "        99.45589264,  97.37287944,  98.88185271,  97.99183758,\n",
       "       105.38371864,  98.16877795, 101.87701657, 102.66697669])"
      ]
     },
     "execution_count": 32,
     "metadata": {},
     "output_type": "execute_result"
    }
   ],
   "source": [
    "dados1"
   ]
  },
  {
   "cell_type": "code",
   "execution_count": 33,
   "metadata": {
    "colab": {
     "base_uri": "https://localhost:8080/",
     "height": 295
    },
    "id": "9A4GhzvnAXUl",
    "outputId": "52adae14-1971-414b-b1a0-41043576e633"
   },
   "outputs": [
    {
     "data": {
      "image/png": "[encoded data removed]",
      "text/plain": [
       "<Figure size 432x288 with 3 Axes>"
      ]
     },
     "metadata": {
      "needs_background": "light"
     },
     "output_type": "display_data"
    }
   ],
   "source": [
    "plt.figure()\n",
    "plt.subplot(221)\n",
    "plt.hist(dados1,10)\n",
    "plt.xlabel('Classes')\n",
    "plt.ylabel('Quantidade')\n",
    "plt.title('Dados 1')\n",
    "plt.xlim(50,150)\n",
    "plt.grid(True)\n",
    "\n",
    "plt.subplot(222)\n",
    "plt.hist(dados2,10)\n",
    "plt.xlabel('Classes')\n",
    "plt.ylabel('Quantidade')\n",
    "plt.title('Dados 2')\n",
    "plt.xlim(50,150)\n",
    "plt.grid(True)\n",
    "\n",
    "plt.subplot(223)\n",
    "plt.hist(dados3,10)\n",
    "plt.xlabel('Classes')\n",
    "plt.ylabel('Quantidade')\n",
    "plt.title('Dados 2')\n",
    "plt.xlim(50,150)\n",
    "plt.grid(True)\n",
    "\n",
    "plt.show()"
   ]
  },
  {
   "cell_type": "markdown",
   "metadata": {
    "id": "hpp9NYnNBlC2"
   },
   "source": [
    "## Medidas de Posição\n",
    "* Além das medidas de centralidade e de variação, temos as medidas de\n",
    "posição\n",
    "* Tais medidas servem para que se possa especificar a posição de uma determinada entrada de dados dentro do conjunto em que ela está inserida\n",
    "* Fractis\n",
    "  * Número que separam ou dividem um conjunto de dados ordenado em partes iguais\n",
    "  * A mediana é um fractil pois divide um conjunto de dados ordenados\n",
    "em duas partes iguais\n",
    "* A medida de posição mais comum é calculada dividindo os dados em três quartis $Q_1$, $Q_2$ e $Q_3$\n",
    "* Estes quartis dividem um conjunto de dados ordenados em quatro\n",
    "partes iguais\n",
    "  * Aproximadamente 1/4 dos dados está abaixo do primeiro quartil.\n",
    "  * Aproximadamente metade dos dados está abaixo do segundo quartil\n",
    "  * Aproximadamente 3/4 dos dados estão abaixo do terceiro quartil\n",
    "* Para calcular os quartis, basta ordenar os dados e:\n",
    "  * calcular a mediana do conjunto - $Q_2$\n",
    "  * dividir os dados na mediana\n",
    "  * encontrar a mediana da primeira parte - $Q_1$\n",
    "  * encontrar a mediana da segunda parte - $Q_3$\n",
    "* Exemplo: notas de 15 pessoas em uma prova\n",
    "  * 13 9 18 15 14 21 7 10 11 20 5 18 37 16 17\n",
    "  * ordena dados\n",
    "  * 5 7 9 10 11 13 14 15 16 17 18 18 20 21 37\n",
    "  * encontra $Q_2$\n",
    "  * 5 7 9 10 11 13 14 **15** 16 17 18 18 20 21 37\n",
    "  * encontra $Q_1$\n",
    "  * 5 7 9 **10** 11 13 14 **15** 16 17 18 18 20 21 37\n",
    "  * encontra $Q_3$\n",
    "  * 5 7 9 **10** 11 13 14 **15** 16 17 18 **18** 20 21 37\n",
    "* Interpretação\n",
    "  * Aproximadamente 1/4 dos funcionários obteve 10 ou menos\n",
    "  * Aproximadamente metade obteve 15 ou menos\n",
    "  * Aproximadamente 3/4 obtiveram 18 ou menos\n",
    "* Um ótimo gráfico para visualizar os dados em relação ao posicionamento é o box-plot\n",
    "\n"
   ]
  },
  {
   "cell_type": "code",
   "execution_count": 34,
   "metadata": {
    "id": "eRasq95tDBOy"
   },
   "outputs": [
    {
     "data": {
      "image/png": "[encoded data removed]",
      "text/plain": [
       "<Figure size 432x288 with 1 Axes>"
      ]
     },
     "metadata": {
      "needs_background": "light"
     },
     "output_type": "display_data"
    }
   ],
   "source": [
    "plt.boxplot(alugueis)\n",
    "plt.title('Boxplot do número de alugueis por dia')\n",
    "plt.xlabel('Quantidade')\n",
    "plt.grid()\n",
    "plt.show()"
   ]
  }
 ],
 "metadata": {
  "colab": {
   "collapsed_sections": [
    "zV9yjRKQJ67L",
    "bW78zW84MaI0",
    "eJNeN6wrNj3p"
   ],
   "name": "Aula01.ipynb",
   "provenance": []
  },
  "kernelspec": {
   "display_name": "Python 3",
   "language": "python",
   "name": "python3"
  },
  "language_info": {
   "codemirror_mode": {
    "name": "ipython",
    "version": 3
   },
   "file_extension": ".py",
   "mimetype": "text/x-python",
   "name": "python",
   "nbconvert_exporter": "python",
   "pygments_lexer": "ipython3",
   "version": "3.10.6 (main, Nov 10 2011, 15:00:00) [GCC 12.1.0]"
  },
  "vscode": {
   "interpreter": {
    "hash": "e7370f93d1d0cde622a1f8e1c04877d8463912d04d973331ad4851f04de6915a"
   }
  }
 },
 "nbformat": 4,
 "nbformat_minor": 1
}
