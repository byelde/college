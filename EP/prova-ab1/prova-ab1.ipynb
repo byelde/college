{
 "cells": [
  {
   "cell_type": "code",
   "id": "initial_id",
   "metadata": {
    "collapsed": true,
    "ExecuteTime": {
     "end_time": "2025-03-21T22:15:30.427262Z",
     "start_time": "2025-03-21T22:15:30.420817Z"
    }
   },
   "source": [
    "import numpy as np\n",
    "import pandas as pd\n",
    "import matplotlib.pyplot as plt\n",
    "from matplotlib.pyplot import title"
   ],
   "outputs": [],
   "execution_count": 17
  },
  {
   "metadata": {
    "ExecuteTime": {
     "end_time": "2025-03-21T21:58:04.686384Z",
     "start_time": "2025-03-21T21:58:04.677979Z"
    }
   },
   "cell_type": "code",
   "source": [
    "A = np.array([291, 305, 310, 336, 373, 389, 428, 442, 507, 514])\n",
    "B = np.array([323, 323, 382, 387, 388, 411, 411, 426, 441, 450])\n",
    "C = np.array([309, 309, 309, 351, 359, 388, 413, 416, 422, 469])"
   ],
   "id": "e5973257f76625ea",
   "outputs": [],
   "execution_count": 4
  },
  {
   "metadata": {
    "ExecuteTime": {
     "end_time": "2025-03-21T22:00:21.597475Z",
     "start_time": "2025-03-21T22:00:21.552983Z"
    }
   },
   "cell_type": "code",
   "source": [
    "df = pd.DataFrame()\n",
    "df['A'] = A\n",
    "df['B'] = B\n",
    "df['C'] = C\n",
    "\n",
    "df"
   ],
   "id": "e3d9e5d1c66a7b54",
   "outputs": [
    {
     "data": {
      "text/plain": [
       "     A    B    C\n",
       "0  291  323  309\n",
       "1  305  323  309\n",
       "2  310  382  309\n",
       "3  336  387  351\n",
       "4  373  388  359\n",
       "5  389  411  388\n",
       "6  428  411  413\n",
       "7  442  426  416\n",
       "8  507  441  422\n",
       "9  514  450  469"
      ],
      "text/html": [
       "<div>\n",
       "<style scoped>\n",
       "    .dataframe tbody tr th:only-of-type {\n",
       "        vertical-align: middle;\n",
       "    }\n",
       "\n",
       "    .dataframe tbody tr th {\n",
       "        vertical-align: top;\n",
       "    }\n",
       "\n",
       "    .dataframe thead th {\n",
       "        text-align: right;\n",
       "    }\n",
       "</style>\n",
       "<table border=\"1\" class=\"dataframe\">\n",
       "  <thead>\n",
       "    <tr style=\"text-align: right;\">\n",
       "      <th></th>\n",
       "      <th>A</th>\n",
       "      <th>B</th>\n",
       "      <th>C</th>\n",
       "    </tr>\n",
       "  </thead>\n",
       "  <tbody>\n",
       "    <tr>\n",
       "      <th>0</th>\n",
       "      <td>291</td>\n",
       "      <td>323</td>\n",
       "      <td>309</td>\n",
       "    </tr>\n",
       "    <tr>\n",
       "      <th>1</th>\n",
       "      <td>305</td>\n",
       "      <td>323</td>\n",
       "      <td>309</td>\n",
       "    </tr>\n",
       "    <tr>\n",
       "      <th>2</th>\n",
       "      <td>310</td>\n",
       "      <td>382</td>\n",
       "      <td>309</td>\n",
       "    </tr>\n",
       "    <tr>\n",
       "      <th>3</th>\n",
       "      <td>336</td>\n",
       "      <td>387</td>\n",
       "      <td>351</td>\n",
       "    </tr>\n",
       "    <tr>\n",
       "      <th>4</th>\n",
       "      <td>373</td>\n",
       "      <td>388</td>\n",
       "      <td>359</td>\n",
       "    </tr>\n",
       "    <tr>\n",
       "      <th>5</th>\n",
       "      <td>389</td>\n",
       "      <td>411</td>\n",
       "      <td>388</td>\n",
       "    </tr>\n",
       "    <tr>\n",
       "      <th>6</th>\n",
       "      <td>428</td>\n",
       "      <td>411</td>\n",
       "      <td>413</td>\n",
       "    </tr>\n",
       "    <tr>\n",
       "      <th>7</th>\n",
       "      <td>442</td>\n",
       "      <td>426</td>\n",
       "      <td>416</td>\n",
       "    </tr>\n",
       "    <tr>\n",
       "      <th>8</th>\n",
       "      <td>507</td>\n",
       "      <td>441</td>\n",
       "      <td>422</td>\n",
       "    </tr>\n",
       "    <tr>\n",
       "      <th>9</th>\n",
       "      <td>514</td>\n",
       "      <td>450</td>\n",
       "      <td>469</td>\n",
       "    </tr>\n",
       "  </tbody>\n",
       "</table>\n",
       "</div>"
      ]
     },
     "execution_count": 8,
     "metadata": {},
     "output_type": "execute_result"
    }
   ],
   "execution_count": 8
  },
  {
   "metadata": {
    "ExecuteTime": {
     "end_time": "2025-03-21T22:20:00.361431Z",
     "start_time": "2025-03-21T22:20:00.081273Z"
    }
   },
   "cell_type": "code",
   "source": [
    "plt.figure()\n",
    "\n",
    "plt.subplot(221)\n",
    "plt.title('A')\n",
    "plt.boxplot(df['A'], label='A')\n",
    "plt.grid(True)\n",
    "\n",
    "plt.subplot(222)\n",
    "plt.title('B')\n",
    "plt.boxplot(df['B'], label='B')\n",
    "plt.grid(True)\n",
    "\n",
    "plt.subplot(223)\n",
    "plt.title('C')\n",
    "plt.boxplot(df['C'], label='C')\n",
    "plt.grid(True)\n",
    "\n",
    "plt.show()"
   ],
   "id": "a2b626b0d0b54716",
   "outputs": [
    {
     "data": {
      "text/plain": [
       "<Figure size 640x480 with 3 Axes>"
      ],
      "image/png": "[encoded data removed]"
     },
     "metadata": {},
     "output_type": "display_data"
    }
   ],
   "execution_count": 30
  },
  {
   "metadata": {
    "ExecuteTime": {
     "end_time": "2025-03-21T23:19:30.510471Z",
     "start_time": "2025-03-21T23:19:30.504273Z"
    }
   },
   "cell_type": "code",
   "source": "import random",
   "id": "efbc8056b28ec5a5",
   "outputs": [],
   "execution_count": 32
  },
  {
   "metadata": {
    "ExecuteTime": {
     "end_time": "2025-03-21T23:21:45.286729Z",
     "start_time": "2025-03-21T23:21:45.277152Z"
    }
   },
   "cell_type": "code",
   "source": [
    "D = [12, 15, 25, 19, 45, 52, 63, 72, 5, 37, 7, 12, 31, 40, 2, 61, 69, 33, 25, 9]\n",
    "amostra = random.sample(D, 5)\n",
    "\n",
    "\n",
    "amostra"
   ],
   "id": "6cb56dcf41b79597",
   "outputs": [
    {
     "data": {
      "text/plain": [
       "[19, 72, 12, 69, 45]"
      ]
     },
     "execution_count": 64,
     "metadata": {},
     "output_type": "execute_result"
    }
   ],
   "execution_count": 64
  }
 ],
 "metadata": {
  "kernelspec": {
   "display_name": "Python 3",
   "language": "python",
   "name": "python3"
  },
  "language_info": {
   "codemirror_mode": {
    "name": "ipython",
    "version": 2
   },
   "file_extension": ".py",
   "mimetype": "text/x-python",
   "name": "python",
   "nbconvert_exporter": "python",
   "pygments_lexer": "ipython2",
   "version": "2.7.6"
  }
 },
 "nbformat": 4,
 "nbformat_minor": 5
}
